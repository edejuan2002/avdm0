{
 "cells": [
  {
   "cell_type": "markdown",
   "id": "d69f81f0",
   "metadata": {},
   "source": [
    "# Pandas in a nutshell v2\n",
    "\n",
    "Pandas is one of the most essential Python libraries, especially when working with tabular data. Pandas simplifies data curation, manipulation, and visualization of data considerably. In this notebook, you can find an introduction to using Pandas in data science projects.\n",
    "\n",
    "<u>**Outline:**</u>\n",
    "1. [Importing the Pandas library](#1)\n",
    "2. [Importing data](#2)\n",
    "    1. [Loading Excel or csv files](#2.1)\n",
    "    2. [Accessing APIs](#2.2)\n",
    "3. [Pandas Series](#3) **[(TASK I)](#task1)**\n",
    "4. [Pandas DataFrames](#4)\n",
    "    1. [Generating and accessing  Pandas DataFrames](#4.1) **[(TASK II)](#task2)**\n",
    "    2. [Operations on DataFrames](#4.2)\n",
    "        1. [Selecting data](#4.2.1)\n",
    "        2. [Slicing data frames](#4.2.2) \n",
    "           1. [Slicing by label with loc](#4.2.2.1)\n",
    "           2. [Slicing by position with iloc](#4.2.2.2)\n",
    "        3. [Filtering](#4.2.3)\n",
    "        4. [Transposing, Sorting, and Grouping](#4.2.4)\n",
    "   **[(TASK III)](#task3)**\n",
    "5. [Profiling](#5)\n",
    "6. [Final Remarks](#6)\n",
    "\n",
    "<u>**References:**</u> \n",
    "- For the full Pandas documentation see https://pandas.pydata.org/docs/. \n",
    "- Pandas Getting Started Guide: https://pandas.pydata.org/docs/getting_started/index.html#getting-started.\n",
    "- A *cheat sheet* on data manipulation with Pandas: https://pandas.pydata.org/Pandas_Cheat_Sheet.pdf.\n",
    "- For the basic basics of plotting with Pandas, see https://www.enthought.com/wp-content/uploads/2019/09/Enthought-Pandas-Cheat-Sheet-1-Plotting-with-Series-and-DataFrames-v1.0.2.pdf.\n",
    "- For more complete info on plotting with Pandas see https://pandas.pydata.org/docs/user_guide/visualization.html. \n",
    "\n",
    "<u>**Authors:**</u> \n",
    "- Julian Vicens: <julianvicens@ub.edu>\n",
    "- Franciska Peter\n"
   ]
  },
  {
   "cell_type": "markdown",
   "id": "bc112ada",
   "metadata": {},
   "source": [
    "## 1. Importing the pandas library <a class=\"anchor\" id=\"1\"></a>\n",
    "Pandas is typically imported into the namespace pd, just as numpy is typically imported as np."
   ]
  },
  {
   "cell_type": "code",
   "execution_count": 1,
   "id": "8ea41433",
   "metadata": {},
   "outputs": [],
   "source": [
    "import numpy as np\n",
    "import pandas as pd"
   ]
  },
  {
   "cell_type": "markdown",
   "id": "52662248",
   "metadata": {},
   "source": [
    "## 2. Importing data <a class=\"anchor\" id=\"2\"></a>\n",
    "Data can be imported either by loading files or by accessing an API (Application Programming Interface).\n",
    "\n",
    "### 2.1. Loading Excel or csv files <a class=\"anchor\" id=\"2.1\"></a>\n",
    "For instance with functions [read_excel](https://pandas.pydata.org/pandas-docs/stable/reference/api/pandas.read_excel.html) or [read_csv](https://pandas.pydata.org/pandas-docs/stable/reference/api/pandas.read_csv.html) tables are loaded from files into Pandas DataFrames.\n",
    "\n",
    "**Data extracted from:** Nelson AB, Faraguna U, Zoltan JT, Tononi G, Cirelli C. Sleep patterns and homeostatic mechanisms in adolescent mice. Brain Sci. 2013 Mar 19;3(1):318-43. doi: 10.3390/brainsci3010318. PMID: 23772316; PMCID: PMC3682503."
   ]
  },
  {
   "cell_type": "code",
   "execution_count": 3,
   "id": "768ad523-ae2d-4d0b-ad97-830db1ae7aec",
   "metadata": {},
   "outputs": [],
   "source": [
    "# data directory\n",
    "data_dir = \"../data/\""
   ]
  },
  {
   "cell_type": "code",
   "execution_count": 4,
   "id": "b7c03fb9",
   "metadata": {},
   "outputs": [
    {
     "data": {
      "text/html": [
       "<div>\n",
       "<style scoped>\n",
       "    .dataframe tbody tr th:only-of-type {\n",
       "        vertical-align: middle;\n",
       "    }\n",
       "\n",
       "    .dataframe tbody tr th {\n",
       "        vertical-align: top;\n",
       "    }\n",
       "\n",
       "    .dataframe thead th {\n",
       "        text-align: right;\n",
       "    }\n",
       "</style>\n",
       "<table border=\"1\" class=\"dataframe\">\n",
       "  <thead>\n",
       "    <tr style=\"text-align: right;\">\n",
       "      <th></th>\n",
       "      <th>p</th>\n",
       "      <th>AIC</th>\n",
       "      <th>R2</th>\n",
       "    </tr>\n",
       "    <tr>\n",
       "      <th>(A) Frontal: Predictors for SWA rebound (5/1); % change SWA (5/1) = B0 + (predictors)</th>\n",
       "      <th></th>\n",
       "      <th></th>\n",
       "      <th></th>\n",
       "    </tr>\n",
       "  </thead>\n",
       "  <tbody>\n",
       "    <tr>\n",
       "      <th>Weight-adjusted age (using Gompertz fit)</th>\n",
       "      <td>0.005070</td>\n",
       "      <td>362</td>\n",
       "      <td>0.18900</td>\n",
       "    </tr>\n",
       "    <tr>\n",
       "      <th>Recovery days from surgery</th>\n",
       "      <td>0.430000</td>\n",
       "      <td>370</td>\n",
       "      <td>0.01640</td>\n",
       "    </tr>\n",
       "    <tr>\n",
       "      <th>REM/NREM amount (12 h of recovery)</th>\n",
       "      <td>0.007100</td>\n",
       "      <td>363</td>\n",
       "      <td>0.17500</td>\n",
       "    </tr>\n",
       "    <tr>\n",
       "      <th>n of sleep attempts during sleep deprivation</th>\n",
       "      <td>0.053000</td>\n",
       "      <td>367</td>\n",
       "      <td>0.09530</td>\n",
       "    </tr>\n",
       "    <tr>\n",
       "      <th>Sleep during sleep deprivation (min/4 h)</th>\n",
       "      <td>0.058200</td>\n",
       "      <td>367</td>\n",
       "      <td>0.09130</td>\n",
       "    </tr>\n",
       "    <tr>\n",
       "      <th>Brief arousals (n/min of sleep, first 4 h of recovery)</th>\n",
       "      <td>0.310000</td>\n",
       "      <td>369</td>\n",
       "      <td>0.02730</td>\n",
       "    </tr>\n",
       "    <tr>\n",
       "      <th>Increase in wake SWA (1–4 Hz) during sleep deprivation</th>\n",
       "      <td>0.760000</td>\n",
       "      <td>370</td>\n",
       "      <td>0.02490</td>\n",
       "    </tr>\n",
       "    <tr>\n",
       "      <th>Slow wave energy (SWE = SWA × time) during deprivation (wake and NREM)</th>\n",
       "      <td>0.840000</td>\n",
       "      <td>371</td>\n",
       "      <td>0.00110</td>\n",
       "    </tr>\n",
       "    <tr>\n",
       "      <th>Time spent awake since last sleep</th>\n",
       "      <td>0.910000</td>\n",
       "      <td>371</td>\n",
       "      <td>0.00033</td>\n",
       "    </tr>\n",
       "    <tr>\n",
       "      <th>NREM SWA decline in baseline (1/2)</th>\n",
       "      <td>0.000154</td>\n",
       "      <td>355</td>\n",
       "      <td>0.31700</td>\n",
       "    </tr>\n",
       "    <tr>\n",
       "      <th>NREM SWA decline in baseline (1/2) +</th>\n",
       "      <td>0.000100</td>\n",
       "      <td>352</td>\n",
       "      <td>0.39500</td>\n",
       "    </tr>\n",
       "    <tr>\n",
       "      <th>Increase in wake alpha (8–12 Hz)</th>\n",
       "      <td>0.035200</td>\n",
       "      <td>352</td>\n",
       "      <td>0.39500</td>\n",
       "    </tr>\n",
       "    <tr>\n",
       "      <th>NREM SWA decline in baseline (1/2) +</th>\n",
       "      <td>0.000900</td>\n",
       "      <td>352</td>\n",
       "      <td>0.40000</td>\n",
       "    </tr>\n",
       "    <tr>\n",
       "      <th>Weight-adjusted age</th>\n",
       "      <td>0.029700</td>\n",
       "      <td>352</td>\n",
       "      <td>0.40000</td>\n",
       "    </tr>\n",
       "    <tr>\n",
       "      <th>NREM SWA decline in baseline (1/2) +</th>\n",
       "      <td>0.000430</td>\n",
       "      <td>352</td>\n",
       "      <td>0.43100</td>\n",
       "    </tr>\n",
       "    <tr>\n",
       "      <th>Increase in wake alpha (8–12 Hz) +</th>\n",
       "      <td>0.172930</td>\n",
       "      <td>352</td>\n",
       "      <td>0.43100</td>\n",
       "    </tr>\n",
       "    <tr>\n",
       "      <th>Weight-adjusted age</th>\n",
       "      <td>0.143480</td>\n",
       "      <td>352</td>\n",
       "      <td>0.43100</td>\n",
       "    </tr>\n",
       "  </tbody>\n",
       "</table>\n",
       "</div>"
      ],
      "text/plain": [
       "                                                          p   AIC        R2\n",
       "(A) Frontal: Predictors for SWA rebound (5/1); ...                         \n",
       "Weight-adjusted age (using Gompertz fit)            0.005070   362  0.18900\n",
       "Recovery days from surgery                          0.430000   370  0.01640\n",
       "REM/NREM amount (12 h of recovery)                  0.007100   363  0.17500\n",
       "n of sleep attempts during sleep deprivation        0.053000   367  0.09530\n",
       "Sleep during sleep deprivation (min/4 h)            0.058200   367  0.09130\n",
       "Brief arousals (n/min of sleep, first 4 h of re...  0.310000   369  0.02730\n",
       "Increase in wake SWA (1–4 Hz) during sleep depr...  0.760000   370  0.02490\n",
       "Slow wave energy (SWE = SWA × time) during depr...  0.840000   371  0.00110\n",
       "Time spent awake since last sleep                   0.910000   371  0.00033\n",
       "NREM SWA decline in baseline (1/2)                  0.000154   355  0.31700\n",
       "NREM SWA decline in baseline (1/2) +                0.000100   352  0.39500\n",
       "Increase in wake alpha (8–12 Hz)                    0.035200   352  0.39500\n",
       "NREM SWA decline in baseline (1/2) +                0.000900   352  0.40000\n",
       "Weight-adjusted age                                 0.029700   352  0.40000\n",
       "NREM SWA decline in baseline (1/2) +                0.000430   352  0.43100\n",
       "Increase in wake alpha (8–12 Hz) +                  0.172930   352  0.43100\n",
       "Weight-adjusted age                                 0.143480   352  0.43100"
      ]
     },
     "execution_count": 4,
     "metadata": {},
     "output_type": "execute_result"
    }
   ],
   "source": [
    "mice_xlsx = pd.read_excel(data_dir + \"Sleep_Patterns_and_Homeostatic_Mechanisms_in_Adolescent_Mice_2013.xlsx\",\n",
    "                         index_col=0,\n",
    "                         header=0)\n",
    "# show loaded table:\n",
    "mice_xlsx"
   ]
  },
  {
   "cell_type": "code",
   "execution_count": 5,
   "id": "2cbc33fd",
   "metadata": {},
   "outputs": [
    {
     "data": {
      "text/html": [
       "<div>\n",
       "<style scoped>\n",
       "    .dataframe tbody tr th:only-of-type {\n",
       "        vertical-align: middle;\n",
       "    }\n",
       "\n",
       "    .dataframe tbody tr th {\n",
       "        vertical-align: top;\n",
       "    }\n",
       "\n",
       "    .dataframe thead th {\n",
       "        text-align: right;\n",
       "    }\n",
       "</style>\n",
       "<table border=\"1\" class=\"dataframe\">\n",
       "  <thead>\n",
       "    <tr style=\"text-align: right;\">\n",
       "      <th></th>\n",
       "      <th>p</th>\n",
       "      <th>AIC</th>\n",
       "      <th>R2</th>\n",
       "    </tr>\n",
       "    <tr>\n",
       "      <th>(A) Frontal: Predictors for SWA rebound (5/1); % change SWA (5/1) = B0 + (predictors)</th>\n",
       "      <th></th>\n",
       "      <th></th>\n",
       "      <th></th>\n",
       "    </tr>\n",
       "  </thead>\n",
       "  <tbody>\n",
       "    <tr>\n",
       "      <th>Weight-adjusted age (using Gompertz fit)</th>\n",
       "      <td>0.005070</td>\n",
       "      <td>362</td>\n",
       "      <td>0.18900</td>\n",
       "    </tr>\n",
       "    <tr>\n",
       "      <th>Recovery days from surgery</th>\n",
       "      <td>0.430000</td>\n",
       "      <td>370</td>\n",
       "      <td>0.01640</td>\n",
       "    </tr>\n",
       "    <tr>\n",
       "      <th>REM/NREM amount (12 h of recovery)</th>\n",
       "      <td>0.007100</td>\n",
       "      <td>363</td>\n",
       "      <td>0.17500</td>\n",
       "    </tr>\n",
       "    <tr>\n",
       "      <th>n of sleep attempts during sleep deprivation</th>\n",
       "      <td>0.053000</td>\n",
       "      <td>367</td>\n",
       "      <td>0.09530</td>\n",
       "    </tr>\n",
       "    <tr>\n",
       "      <th>Sleep during sleep deprivation (min/4 h)</th>\n",
       "      <td>0.058200</td>\n",
       "      <td>367</td>\n",
       "      <td>0.09130</td>\n",
       "    </tr>\n",
       "    <tr>\n",
       "      <th>Brief arousals (n/min of sleep, first 4 h of recovery)</th>\n",
       "      <td>0.310000</td>\n",
       "      <td>369</td>\n",
       "      <td>0.02730</td>\n",
       "    </tr>\n",
       "    <tr>\n",
       "      <th>Increase in wake SWA (1–4 Hz) during sleep deprivation</th>\n",
       "      <td>0.760000</td>\n",
       "      <td>370</td>\n",
       "      <td>0.02490</td>\n",
       "    </tr>\n",
       "    <tr>\n",
       "      <th>Slow wave energy (SWE = SWA × time) during deprivation (wake and NREM)</th>\n",
       "      <td>0.840000</td>\n",
       "      <td>371</td>\n",
       "      <td>0.00110</td>\n",
       "    </tr>\n",
       "    <tr>\n",
       "      <th>Time spent awake since last sleep</th>\n",
       "      <td>0.910000</td>\n",
       "      <td>371</td>\n",
       "      <td>0.00033</td>\n",
       "    </tr>\n",
       "    <tr>\n",
       "      <th>NREM SWA decline in baseline (1/2)</th>\n",
       "      <td>0.000154</td>\n",
       "      <td>355</td>\n",
       "      <td>0.31700</td>\n",
       "    </tr>\n",
       "    <tr>\n",
       "      <th>NREM SWA decline in baseline (1/2) +</th>\n",
       "      <td>0.000100</td>\n",
       "      <td>352</td>\n",
       "      <td>0.39500</td>\n",
       "    </tr>\n",
       "    <tr>\n",
       "      <th>Increase in wake alpha (8–12 Hz)</th>\n",
       "      <td>0.035200</td>\n",
       "      <td>352</td>\n",
       "      <td>0.39500</td>\n",
       "    </tr>\n",
       "    <tr>\n",
       "      <th>NREM SWA decline in baseline (1/2) +</th>\n",
       "      <td>0.000900</td>\n",
       "      <td>352</td>\n",
       "      <td>0.40000</td>\n",
       "    </tr>\n",
       "    <tr>\n",
       "      <th>Weight-adjusted age</th>\n",
       "      <td>0.029700</td>\n",
       "      <td>352</td>\n",
       "      <td>0.40000</td>\n",
       "    </tr>\n",
       "    <tr>\n",
       "      <th>NREM SWA decline in baseline (1/2) +</th>\n",
       "      <td>0.000430</td>\n",
       "      <td>352</td>\n",
       "      <td>0.43100</td>\n",
       "    </tr>\n",
       "    <tr>\n",
       "      <th>Increase in wake alpha (8–12 Hz) +</th>\n",
       "      <td>0.172930</td>\n",
       "      <td>352</td>\n",
       "      <td>0.43100</td>\n",
       "    </tr>\n",
       "    <tr>\n",
       "      <th>Weight-adjusted age</th>\n",
       "      <td>0.143480</td>\n",
       "      <td>352</td>\n",
       "      <td>0.43100</td>\n",
       "    </tr>\n",
       "  </tbody>\n",
       "</table>\n",
       "</div>"
      ],
      "text/plain": [
       "                                                          p   AIC        R2\n",
       "(A) Frontal: Predictors for SWA rebound (5/1); ...                         \n",
       "Weight-adjusted age (using Gompertz fit)            0.005070   362  0.18900\n",
       "Recovery days from surgery                          0.430000   370  0.01640\n",
       "REM/NREM amount (12 h of recovery)                  0.007100   363  0.17500\n",
       "n of sleep attempts during sleep deprivation        0.053000   367  0.09530\n",
       "Sleep during sleep deprivation (min/4 h)            0.058200   367  0.09130\n",
       "Brief arousals (n/min of sleep, first 4 h of re...  0.310000   369  0.02730\n",
       "Increase in wake SWA (1–4 Hz) during sleep depr...  0.760000   370  0.02490\n",
       "Slow wave energy (SWE = SWA × time) during depr...  0.840000   371  0.00110\n",
       "Time spent awake since last sleep                   0.910000   371  0.00033\n",
       "NREM SWA decline in baseline (1/2)                  0.000154   355  0.31700\n",
       "NREM SWA decline in baseline (1/2) +                0.000100   352  0.39500\n",
       "Increase in wake alpha (8–12 Hz)                    0.035200   352  0.39500\n",
       "NREM SWA decline in baseline (1/2) +                0.000900   352  0.40000\n",
       "Weight-adjusted age                                 0.029700   352  0.40000\n",
       "NREM SWA decline in baseline (1/2) +                0.000430   352  0.43100\n",
       "Increase in wake alpha (8–12 Hz) +                  0.172930   352  0.43100\n",
       "Weight-adjusted age                                 0.143480   352  0.43100"
      ]
     },
     "execution_count": 5,
     "metadata": {},
     "output_type": "execute_result"
    }
   ],
   "source": [
    "mice_csv = pd.read_csv(data_dir + \"Sleep_Patterns_and_Homeostatic_Mechanisms_in_Adolescent_Mice_2013.csv\",\n",
    "                         index_col=0,\n",
    "                         header=0)\n",
    "# show loaded table:\n",
    "mice_csv"
   ]
  },
  {
   "cell_type": "markdown",
   "id": "035d281c",
   "metadata": {},
   "source": [
    "### 2.2. Accessing APIs <a class=\"anchor\" id=\"2.2\"></a>\n",
    "\n",
    "You will usually find a sample code for how to access an API on the webpage that publishes the open data. For our example, the open data provider [Portal de Dades Obertes de Catalunya](https://analisi.transparenciacatalunya.cat/) here for example the following [database](https://analisi.transparenciacatalunya.cat/Energia/Consum-d-energia-el-ctrica-per-municipis-i-sectors/8idm-becu) about energy consumption, requires the installation of [sodapy](https://github.com/xmunoz/sodapy) which has been installed with the requirements:"
   ]
  },
  {
   "cell_type": "code",
   "execution_count": 6,
   "id": "b63e821d",
   "metadata": {},
   "outputs": [
    {
     "name": "stderr",
     "output_type": "stream",
     "text": [
      "WARNING:root:Requests made without an app_token will be subject to strict throttling limits.\n"
     ]
    },
    {
     "data": {
      "text/html": [
       "<div>\n",
       "<style scoped>\n",
       "    .dataframe tbody tr th:only-of-type {\n",
       "        vertical-align: middle;\n",
       "    }\n",
       "\n",
       "    .dataframe tbody tr th {\n",
       "        vertical-align: top;\n",
       "    }\n",
       "\n",
       "    .dataframe thead th {\n",
       "        text-align: right;\n",
       "    }\n",
       "</style>\n",
       "<table border=\"1\" class=\"dataframe\">\n",
       "  <thead>\n",
       "    <tr style=\"text-align: right;\">\n",
       "      <th></th>\n",
       "      <th>any</th>\n",
       "      <th>provincia</th>\n",
       "      <th>comarca</th>\n",
       "      <th>cdmun</th>\n",
       "      <th>municipi</th>\n",
       "      <th>codi_sector</th>\n",
       "      <th>descripcio_sector</th>\n",
       "      <th>consum_kwh</th>\n",
       "      <th>observacions</th>\n",
       "    </tr>\n",
       "  </thead>\n",
       "  <tbody>\n",
       "    <tr>\n",
       "      <th>0</th>\n",
       "      <td>2013</td>\n",
       "      <td>BARCELONA</td>\n",
       "      <td>BAIX LLOBREGAT</td>\n",
       "      <td>08001</td>\n",
       "      <td>ABRERA</td>\n",
       "      <td>1</td>\n",
       "      <td>PRIMARI</td>\n",
       "      <td>237755</td>\n",
       "      <td>NaN</td>\n",
       "    </tr>\n",
       "    <tr>\n",
       "      <th>1</th>\n",
       "      <td>2013</td>\n",
       "      <td>BARCELONA</td>\n",
       "      <td>BAIX LLOBREGAT</td>\n",
       "      <td>08001</td>\n",
       "      <td>ABRERA</td>\n",
       "      <td>3</td>\n",
       "      <td>INDUSTRIAL</td>\n",
       "      <td>66604371</td>\n",
       "      <td>NaN</td>\n",
       "    </tr>\n",
       "    <tr>\n",
       "      <th>2</th>\n",
       "      <td>2013</td>\n",
       "      <td>BARCELONA</td>\n",
       "      <td>BAIX LLOBREGAT</td>\n",
       "      <td>08001</td>\n",
       "      <td>ABRERA</td>\n",
       "      <td>4</td>\n",
       "      <td>CONSTRUCCIO I OBRES PUBLIQUES</td>\n",
       "      <td>710769</td>\n",
       "      <td>NaN</td>\n",
       "    </tr>\n",
       "    <tr>\n",
       "      <th>3</th>\n",
       "      <td>2013</td>\n",
       "      <td>BARCELONA</td>\n",
       "      <td>BAIX LLOBREGAT</td>\n",
       "      <td>08001</td>\n",
       "      <td>ABRERA</td>\n",
       "      <td>5</td>\n",
       "      <td>TRANSPORT</td>\n",
       "      <td>NaN</td>\n",
       "      <td>Dada subjecta a secret estadístic.</td>\n",
       "    </tr>\n",
       "    <tr>\n",
       "      <th>4</th>\n",
       "      <td>2013</td>\n",
       "      <td>BARCELONA</td>\n",
       "      <td>BAIX LLOBREGAT</td>\n",
       "      <td>08001</td>\n",
       "      <td>ABRERA</td>\n",
       "      <td>6</td>\n",
       "      <td>TERCIARI</td>\n",
       "      <td>100629015</td>\n",
       "      <td>NaN</td>\n",
       "    </tr>\n",
       "    <tr>\n",
       "      <th>...</th>\n",
       "      <td>...</td>\n",
       "      <td>...</td>\n",
       "      <td>...</td>\n",
       "      <td>...</td>\n",
       "      <td>...</td>\n",
       "      <td>...</td>\n",
       "      <td>...</td>\n",
       "      <td>...</td>\n",
       "      <td>...</td>\n",
       "    </tr>\n",
       "    <tr>\n",
       "      <th>1995</th>\n",
       "      <td>2013</td>\n",
       "      <td>GIRONA</td>\n",
       "      <td>SELVA</td>\n",
       "      <td>17103</td>\n",
       "      <td>MAÇANET DE LA SELVA</td>\n",
       "      <td>4</td>\n",
       "      <td>CONSTRUCCIO I OBRES PUBLIQUES</td>\n",
       "      <td>331255</td>\n",
       "      <td>NaN</td>\n",
       "    </tr>\n",
       "    <tr>\n",
       "      <th>1996</th>\n",
       "      <td>2013</td>\n",
       "      <td>GIRONA</td>\n",
       "      <td>SELVA</td>\n",
       "      <td>17103</td>\n",
       "      <td>MAÇANET DE LA SELVA</td>\n",
       "      <td>5</td>\n",
       "      <td>TRANSPORT</td>\n",
       "      <td>NaN</td>\n",
       "      <td>Dada subjecta a secret estadístic.</td>\n",
       "    </tr>\n",
       "    <tr>\n",
       "      <th>1997</th>\n",
       "      <td>2013</td>\n",
       "      <td>GIRONA</td>\n",
       "      <td>SELVA</td>\n",
       "      <td>17103</td>\n",
       "      <td>MAÇANET DE LA SELVA</td>\n",
       "      <td>6</td>\n",
       "      <td>TERCIARI</td>\n",
       "      <td>14183806</td>\n",
       "      <td>NaN</td>\n",
       "    </tr>\n",
       "    <tr>\n",
       "      <th>1998</th>\n",
       "      <td>2013</td>\n",
       "      <td>GIRONA</td>\n",
       "      <td>SELVA</td>\n",
       "      <td>17103</td>\n",
       "      <td>MAÇANET DE LA SELVA</td>\n",
       "      <td>7</td>\n",
       "      <td>USOS DOMESTICS</td>\n",
       "      <td>10101499</td>\n",
       "      <td>NaN</td>\n",
       "    </tr>\n",
       "    <tr>\n",
       "      <th>1999</th>\n",
       "      <td>2013</td>\n",
       "      <td>GIRONA</td>\n",
       "      <td>GARROTXA</td>\n",
       "      <td>17105</td>\n",
       "      <td>MIERES</td>\n",
       "      <td>1</td>\n",
       "      <td>PRIMARI</td>\n",
       "      <td>55774</td>\n",
       "      <td>NaN</td>\n",
       "    </tr>\n",
       "  </tbody>\n",
       "</table>\n",
       "<p>2000 rows × 9 columns</p>\n",
       "</div>"
      ],
      "text/plain": [
       "       any  provincia         comarca  cdmun             municipi codi_sector  \\\n",
       "0     2013  BARCELONA  BAIX LLOBREGAT  08001               ABRERA           1   \n",
       "1     2013  BARCELONA  BAIX LLOBREGAT  08001               ABRERA           3   \n",
       "2     2013  BARCELONA  BAIX LLOBREGAT  08001               ABRERA           4   \n",
       "3     2013  BARCELONA  BAIX LLOBREGAT  08001               ABRERA           5   \n",
       "4     2013  BARCELONA  BAIX LLOBREGAT  08001               ABRERA           6   \n",
       "...    ...        ...             ...    ...                  ...         ...   \n",
       "1995  2013     GIRONA           SELVA  17103  MAÇANET DE LA SELVA           4   \n",
       "1996  2013     GIRONA           SELVA  17103  MAÇANET DE LA SELVA           5   \n",
       "1997  2013     GIRONA           SELVA  17103  MAÇANET DE LA SELVA           6   \n",
       "1998  2013     GIRONA           SELVA  17103  MAÇANET DE LA SELVA           7   \n",
       "1999  2013     GIRONA        GARROTXA  17105               MIERES           1   \n",
       "\n",
       "                  descripcio_sector consum_kwh  \\\n",
       "0                           PRIMARI     237755   \n",
       "1                        INDUSTRIAL   66604371   \n",
       "2     CONSTRUCCIO I OBRES PUBLIQUES     710769   \n",
       "3                         TRANSPORT        NaN   \n",
       "4                          TERCIARI  100629015   \n",
       "...                             ...        ...   \n",
       "1995  CONSTRUCCIO I OBRES PUBLIQUES     331255   \n",
       "1996                      TRANSPORT        NaN   \n",
       "1997                       TERCIARI   14183806   \n",
       "1998                 USOS DOMESTICS   10101499   \n",
       "1999                        PRIMARI      55774   \n",
       "\n",
       "                            observacions  \n",
       "0                                    NaN  \n",
       "1                                    NaN  \n",
       "2                                    NaN  \n",
       "3     Dada subjecta a secret estadístic.  \n",
       "4                                    NaN  \n",
       "...                                  ...  \n",
       "1995                                 NaN  \n",
       "1996  Dada subjecta a secret estadístic.  \n",
       "1997                                 NaN  \n",
       "1998                                 NaN  \n",
       "1999                                 NaN  \n",
       "\n",
       "[2000 rows x 9 columns]"
      ]
     },
     "execution_count": 6,
     "metadata": {},
     "output_type": "execute_result"
    }
   ],
   "source": [
    "from sodapy import Socrata\n",
    "\n",
    "# Unauthenticated client only works with public data sets. Note 'None'\n",
    "# in place of application token, and no username or password:\n",
    "client = Socrata(\"analisi.transparenciacatalunya.cat\", None)\n",
    "\n",
    "# Example authenticated client (needed for non-public datasets):\n",
    "# client = Socrata(analisi.transparenciacatalunya.cat,\n",
    "#                  MyAppToken,\n",
    "#                  username=\"user@example.com\",\n",
    "#                  password=\"AFakePassword\")\n",
    "\n",
    "# First 2000 results, returned as JSON from API / converted to Python list of\n",
    "# dictionaries by sodapy.\n",
    "results = client.get(\"8idm-becu\", limit=2000)\n",
    "\n",
    "# Convert to pandas DataFrame\n",
    "consum_energia_df = pd.DataFrame.from_records(results)\n",
    "\n",
    "# show loaded table:\n",
    "consum_energia_df"
   ]
  },
  {
   "cell_type": "markdown",
   "id": "996649fe",
   "metadata": {},
   "source": [
    "You see that they limit the downloaded lines to the first 2000 lines, but you can alter these numbers according to your needs. Acctually, if you register in their webpage they give you a TOKEN that allows you to access more lines in a quicker way. \n",
    "\n",
    "Note that on this particular database on energy consumption, you also find extensive information on who recorded the data when or what is the meaning of each column."
   ]
  },
  {
   "cell_type": "markdown",
   "id": "f7190e63",
   "metadata": {},
   "source": [
    "## 3. Pandas Series <a class=\"anchor\" id=\"3\"></a>\n",
    "Above, we loaded **Pandas DataFrames** that represent tables. \n",
    "To begin with pandas, it is helpful to start with \"one-column tables\" that are represented by **Pandas Series**. For the full documentation of Pandas Series see https://pandas.pydata.org/pandas-docs/stable/reference/api/pandas.Series.html."
   ]
  },
  {
   "cell_type": "code",
   "execution_count": 7,
   "id": "cab09b60",
   "metadata": {
    "scrolled": true
   },
   "outputs": [
    {
     "data": {
      "text/plain": [
       "0               Wallcreeper\n",
       "1               Lammergeier\n",
       "2               Lammergeier\n",
       "3               Lammergeier\n",
       "4             Dupont's Lark\n",
       "5     Pin-tailed Sandgrouse\n",
       "6               Lammergeier\n",
       "7               Wallcreeper\n",
       "8            Little Bustard\n",
       "9             Dupont's Lark\n",
       "10              Wallcreeper\n",
       "11              Wallcreeper\n",
       "12             Citril Finch\n",
       "13           Black Wheatear\n",
       "14                Snowfinch\n",
       "Name: birds, dtype: object"
      ]
     },
     "execution_count": 7,
     "metadata": {},
     "output_type": "execute_result"
    }
   ],
   "source": [
    "# Pandas Series of strings\n",
    "observed_birds = pd.Series([\"Wallcreeper\",\n",
    "                            \"Lammergeier\",\n",
    "                            \"Lammergeier\",\n",
    "                            \"Lammergeier\",\n",
    "                            \"Dupont's Lark\",\n",
    "                            \"Pin-tailed Sandgrouse\",\n",
    "                            \"Lammergeier\",\n",
    "                            \"Wallcreeper\",\n",
    "                            \"Little Bustard\",\n",
    "                            \"Dupont's Lark\",\n",
    "                            \"Wallcreeper\",\n",
    "                            \"Wallcreeper\",\n",
    "                            \"Citril Finch\",\n",
    "                            \"Black Wheatear\",\n",
    "                            \"Snowfinch\"\n",
    "                            ], \n",
    "                           dtype = str, # if you put nothing here, pandas inferres the type itself\n",
    "                           name = \"birds\"\n",
    "                          )\n",
    "\n",
    "# show Pandas series: \n",
    "observed_birds"
   ]
  },
  {
   "cell_type": "code",
   "execution_count": 8,
   "id": "e1a19cfe",
   "metadata": {},
   "outputs": [
    {
     "data": {
      "text/plain": [
       "<Axes: ylabel='count'>"
      ]
     },
     "execution_count": 8,
     "metadata": {},
     "output_type": "execute_result"
    },
    {
     "data": {
      "image/png": "[encoded data removed]",
      "text/plain": [
       "<Figure size 640x480 with 1 Axes>"
      ]
     },
     "metadata": {},
     "output_type": "display_data"
    }
   ],
   "source": [
    "# the number of appearances of each bird, e.g. in a pie chart\n",
    "observed_birds.value_counts().plot.pie()"
   ]
  },
  {
   "cell_type": "markdown",
   "id": "9fe6d12a",
   "metadata": {},
   "source": [
    "Pandas Series can contain a variety of python data types, such as strings, integers, time stamps, and of course also floats. As an example, we'll draw N=10000 Gaussian random numbers and plot a histogram for them. Note that by loading pandas, we already loaded matplotlib.pyplot into namespace plt."
   ]
  },
  {
   "cell_type": "code",
   "execution_count": 9,
   "id": "55ad0005",
   "metadata": {},
   "outputs": [
    {
     "data": {
      "text/plain": [
       "0       1.370955\n",
       "1       1.710882\n",
       "2       1.449111\n",
       "3       3.316729\n",
       "4       0.435993\n",
       "          ...   \n",
       "9995    2.293821\n",
       "9996    2.131522\n",
       "9997    2.475652\n",
       "9998    2.969159\n",
       "9999    2.485517\n",
       "Length: 10000, dtype: float64"
      ]
     },
     "execution_count": 9,
     "metadata": {},
     "output_type": "execute_result"
    },
    {
     "data": {
      "image/png": "[encoded data removed]",
      "text/plain": [
       "<Figure size 640x480 with 1 Axes>"
      ]
     },
     "metadata": {},
     "output_type": "display_data"
    }
   ],
   "source": [
    "# you can also gererate a Pandas Series of floats...\n",
    "N=10000\n",
    "sigma = 1\n",
    "mu = 2\n",
    "random_numbers_array = np.random.normal(mu, sigma, N) # N gaussian random numbers i  a numpy array\n",
    "random_numbers = pd.Series(random_numbers_array)  # convert to Series\n",
    "# ... and plot the NORMALIZED histogram in one line\n",
    "ax = random_numbers.hist(density=True, \n",
    "                        bins =100)\n",
    "# add the analytic formula of the gaussian \n",
    "x = np.linspace(-1, 5, 200)\n",
    "ax.plot(x, np.exp(-(x-mu)**2/(2*sigma**2))/(np.sqrt(2*np.pi)*sigma))\n",
    "\n",
    "## and back to numpy :\n",
    "# random_numbers.to_numpy()\n",
    "\n",
    "random_numbers"
   ]
  },
  {
   "cell_type": "markdown",
   "id": "c823b495",
   "metadata": {},
   "source": [
    "# TASK I: <a class=\"anchor\" id=\"task1\"></a>\n",
    "Label x and y axis, change the color of the bars and the line, and give the plot a title."
   ]
  },
  {
   "cell_type": "markdown",
   "id": "20150726",
   "metadata": {},
   "source": [
    "In the following you see that simple numpy operations can directly be applied on Pandas Series (i.e. on columns of Data Frames). The output is again a pandas Series. \n",
    "\n",
    "Further, you'll see that you can print some basic statistics of pandas Series using pandas function *describe*"
   ]
  },
  {
   "cell_type": "code",
   "execution_count": null,
   "id": "72f8521b",
   "metadata": {},
   "outputs": [],
   "source": [
    "# take the absolute value of each item in the Pandas series \n",
    "# and plot a histogram of the result\n",
    "ax = abs(random_numbers).hist(bins=50, density=True)\n",
    "\n",
    "# print some basic statistics of a Pandas series\n",
    "abs(random_numbers).describe()"
   ]
  },
  {
   "cell_type": "code",
   "execution_count": null,
   "id": "cbd3acce-3e9b-4a60-96b8-3608d34784c9",
   "metadata": {},
   "outputs": [],
   "source": [
    "#### Solution"
   ]
  },
  {
   "cell_type": "markdown",
   "id": "668a7479",
   "metadata": {},
   "source": [
    "## 4. Pandas DataFrames <a class=\"anchor\" id=\"4\"></a>\n",
    "You find the full documentation here: https://pandas.pydata.org/pandas-docs/stable/reference/frame.html.\n",
    "\n",
    "### 4.1. Generating  and accessing Pandas DataFrames <a class=\"anchor\" id=\"4.1\"></a>\n",
    ".. and some manipulations.\n",
    "\n",
    "At first we see how to generate an empty data frame and fill it column by column. We see what's an index and what's a column. Then, we generate a data frame from a dictionary."
   ]
  },
  {
   "cell_type": "code",
   "execution_count": null,
   "id": "75bbe225",
   "metadata": {},
   "outputs": [],
   "source": [
    "# There are plenty of different ways to create a DataFrame. \n",
    "\n",
    "# An empty DataFrame can be created by\n",
    "df = pd.DataFrame()  \n",
    "df"
   ]
  },
  {
   "cell_type": "code",
   "execution_count": null,
   "id": "1968ad5f",
   "metadata": {},
   "outputs": [],
   "source": [
    "# This empty DataFrame can be filled columnwise with lists:\n",
    "\n",
    "# e.g.: add new column with name \"Country\" to data frame df\n",
    "df[\"Country\"]  = [\"UK\", \"France\", \"Spain\"]\n",
    "df[\"Capital\"] = [\"London\", \"Paris\", \"Madrid\"]\n",
    "df[\"Inhabitants Country in Mio\"] = [67.22, 67.39, 47.35]\n",
    "df"
   ]
  },
  {
   "cell_type": "code",
   "execution_count": null,
   "id": "4d68cf57",
   "metadata": {},
   "outputs": [],
   "source": [
    "# it makes sense to give column names without spaces, so you can do:\n",
    "df.Capital  # this returns a pandas Series with name Capital!"
   ]
  },
  {
   "cell_type": "markdown",
   "id": "e5c4dbd8",
   "metadata": {},
   "source": [
    "We can also transform the above bird pandas series into a data frame. The Series name turns into the column name."
   ]
  },
  {
   "cell_type": "code",
   "execution_count": null,
   "id": "95acfdf0",
   "metadata": {},
   "outputs": [],
   "source": [
    "# data frames and pandas series are not the same thing\n",
    "birds_df = pd.DataFrame(observed_birds)\n",
    "# Note the column name\n",
    "birds_df"
   ]
  },
  {
   "cell_type": "code",
   "execution_count": null,
   "id": "2da037bc",
   "metadata": {},
   "outputs": [],
   "source": [
    "# we can change the column name with function rename():\n",
    "birds_df =birds_df.rename(columns={\"birds\":\"bird names\"}) # the same works with index\n",
    "birds_df"
   ]
  },
  {
   "cell_type": "markdown",
   "id": "35e4a03d",
   "metadata": {},
   "source": [
    "Back to the countries dataframe..."
   ]
  },
  {
   "cell_type": "code",
   "execution_count": null,
   "id": "34a96885",
   "metadata": {},
   "outputs": [],
   "source": [
    "# column's names\n",
    "df.columns"
   ]
  },
  {
   "cell_type": "code",
   "execution_count": null,
   "id": "deab86ec",
   "metadata": {},
   "outputs": [],
   "source": [
    "# row indexes names\n",
    "df.index"
   ]
  },
  {
   "cell_type": "code",
   "execution_count": null,
   "id": "6a05cc17",
   "metadata": {},
   "outputs": [],
   "source": [
    "# You can also create a single-column DataFrame from a list (This is not a Pandas Series!)\n",
    "df = pd.DataFrame( [\"UK\", \"France\", \"Spain\"], columns = [\"Country\"])  \n",
    "df"
   ]
  },
  {
   "cell_type": "code",
   "execution_count": null,
   "id": "5daa2ef7",
   "metadata": {},
   "outputs": [],
   "source": [
    "# or start from a python dictionary with lists as values (must be of same length).\n",
    "country_dict = { \"Country\" :            [\"UK\",     \"France\", \"Spain\"],\n",
    "                 \"Capital\":            [\"London\", \"Paris\", \"Madrid\"],\n",
    "                 \"Inhabitants Country in Mio\": [67.22, 67.39, 47.35]}\n",
    "# write DataFrame to file, but without the index\n",
    "pd.DataFrame(country_dict).to_csv(data_dir + \"countries.csv\", index = False)\n",
    "# print inline\n",
    "country_df = pd.DataFrame(country_dict) # in jupyter, we just write the name of the dataFrame into the last line to show it nicely.\n",
    "# in a *.py file (in a script)\n",
    "\n",
    "country_df"
   ]
  },
  {
   "cell_type": "code",
   "execution_count": null,
   "id": "7ad1262a",
   "metadata": {},
   "outputs": [],
   "source": [
    "# If you pass a dictionary with scalars instead of lists, \n",
    "# you have to tell pandas how to interpret that (by adding items())\n",
    "fruit_colors = {\"banana\": \"yellow\",\n",
    "                \"apple\" : \"green\",\n",
    "                \"orange\": \"orange\",\n",
    "                \"cherry\": \"red\",\n",
    "                \"berry\" : \"black\",\n",
    "                \"hammer\": \"grey\"\n",
    "               }\n",
    "fruit_df = pd.DataFrame(fruit_colors.items(), \n",
    "                        columns=[\"fruit\", \"color\"])\n",
    "fruit_df"
   ]
  },
  {
   "cell_type": "code",
   "execution_count": null,
   "id": "71d9b7ce",
   "metadata": {},
   "outputs": [],
   "source": [
    "# you might want to have fruit as the index\n",
    "fruit_df = fruit_df.set_index(\"fruit\")\n",
    "fruit_df"
   ]
  },
  {
   "cell_type": "code",
   "execution_count": null,
   "id": "8ac0c288",
   "metadata": {},
   "outputs": [],
   "source": [
    "# then you can access values by column + index\n",
    "fruit_df.color.apple"
   ]
  },
  {
   "cell_type": "code",
   "execution_count": null,
   "id": "d0d9531f",
   "metadata": {},
   "outputs": [],
   "source": [
    "# hammer is not a fruit, so we just drop it from the data frame\n",
    "fruit_df = fruit_df.drop(\"hammer\")\n",
    "fruit_df"
   ]
  },
  {
   "cell_type": "code",
   "execution_count": null,
   "id": "ac2db9da",
   "metadata": {},
   "outputs": [],
   "source": [
    "# or you might regret setting \"fruits\" as index\n",
    "fruit_df = fruit_df.reset_index()\n",
    "fruit_df"
   ]
  },
  {
   "cell_type": "markdown",
   "id": "0c5e1756-0824-43a0-aa03-c7209756956d",
   "metadata": {},
   "source": [
    "#### Deprecated functions and handling exceptions"
   ]
  },
  {
   "cell_type": "markdown",
   "id": "72d2edd1",
   "metadata": {},
   "source": [
    "The pandas function **append()** cannot be called anymore because it is deprecated since version 1.4.0. Below you'll see how to use **concat()** instead. "
   ]
  },
  {
   "cell_type": "code",
   "execution_count": null,
   "id": "760eeecd",
   "metadata": {},
   "outputs": [],
   "source": [
    "try:\n",
    "    fruit_df.append({\"fruit\":\"plum\", \"color\":\"lila\"}, ignore_index=True)\n",
    "except Exception as e:\n",
    "     print(type(e), e)"
   ]
  },
  {
   "cell_type": "markdown",
   "id": "7259f6da-07f5-4e94-ae1c-84424c101a9c",
   "metadata": {},
   "source": [
    "We use the `try/except` block to handle exceptions.\n",
    "\n",
    "- The `try` block lets you test a block of code for errors.\n",
    "- The `except` block lets you handle the error.\n",
    "\n",
    "In this case, we show the message of the Exception due to `append()` is deprecated\n",
    "\n",
    "As a developer, it is also possible to `raise` exceptions.\n",
    "\n",
    "Take a look at the Python [documentation](https://docs.python.org/3/tutorial/errors.html) for more information on this topic.\n",
    "\n"
   ]
  },
  {
   "cell_type": "code",
   "execution_count": null,
   "id": "6228d0db",
   "metadata": {},
   "outputs": [],
   "source": [
    "pd.concat([fruit_df,\n",
    "           pd.DataFrame({\"plum\":\"lila\"}.items(), \n",
    "                        columns=[\"fruit\", \"color\"])\n",
    "          ], \n",
    "          ignore_index=True)"
   ]
  },
  {
   "cell_type": "code",
   "execution_count": null,
   "id": "d1850299",
   "metadata": {},
   "outputs": [],
   "source": [
    "# remove column \"color\" with function pop\n",
    "fruit_df.pop(\"color\")\n",
    "fruit_df"
   ]
  },
  {
   "cell_type": "markdown",
   "id": "0cb3381f",
   "metadata": {},
   "source": [
    "NOTE that the usage of <code>pop()</code> (for removing columns) is different from that of <code>drop()</code> (for deleting rows):\n",
    "\n",
    "    fruit_df = fruit_df.drop(\"hammer\")\n",
    "    fruit_df  \n",
    "vs\n",
    "    \n",
    "    fruit_df.pop(\"color\")\n",
    "    fruit_df\n",
    "    \n",
    "For more on <code>pop()</code> see https://www.geeksforgeeks.org/python-pandas-dataframe-pop/"
   ]
  },
  {
   "cell_type": "code",
   "execution_count": null,
   "id": "1cec2003",
   "metadata": {},
   "outputs": [],
   "source": [
    "# And finally, and quite common, you can load excel sheets, csv files ( ..json, pickle, parquet..)\n",
    "# use help(pd.read_csv(\"countries.csv\") ) to know more\n",
    "country_df = pd.read_csv(data_dir + \"countries.csv\") \n",
    "# equivalent: pd.read_excel(\"countries.xlsx\")\n",
    "country_df"
   ]
  },
  {
   "cell_type": "markdown",
   "id": "0a2bfa40-397c-4e40-9c1c-9c2b13a9c98d",
   "metadata": {},
   "source": [
    "You can overwrite a column with a list:"
   ]
  },
  {
   "cell_type": "code",
   "execution_count": null,
   "id": "e59ef06f-932c-46cd-8dad-1c100831f439",
   "metadata": {},
   "outputs": [],
   "source": [
    "country_df"
   ]
  },
  {
   "cell_type": "code",
   "execution_count": null,
   "id": "edfa138c",
   "metadata": {},
   "outputs": [],
   "source": [
    "country_df.Capital = [\"LON\", \"PAR\", \"MAD\"] # you can replace complete columns like this\n",
    "country_df"
   ]
  },
  {
   "cell_type": "markdown",
   "id": "6aa8fed6-bc93-4af3-bbe1-62bb74c6d147",
   "metadata": {},
   "source": [
    "And you can output a subdataframe, consisting of several columns with their entries."
   ]
  },
  {
   "cell_type": "code",
   "execution_count": null,
   "id": "6d81ba94",
   "metadata": {},
   "outputs": [],
   "source": [
    "country_df[[\"Country\",\"Capital\"]] # returns a DataFrame, note the flipped order of columns"
   ]
  },
  {
   "cell_type": "markdown",
   "id": "59076b98",
   "metadata": {},
   "source": [
    "# TASK II: <a class=\"anchor\" id=\"task2\"></a>\n",
    "\n",
    "Add another country with its capital and number of inhabitants to the table. "
   ]
  },
  {
   "cell_type": "code",
   "execution_count": null,
   "id": "6ef40c32-3a35-4625-88a0-3f18bbf6b761",
   "metadata": {},
   "outputs": [],
   "source": [
    "#### solution"
   ]
  },
  {
   "cell_type": "markdown",
   "id": "6ee6769a",
   "metadata": {},
   "source": [
    "### 4.2. Operations on DataFrames <a class=\"anchor\" id=\"4.2\"></a>\n",
    "\n",
    "#### 4.2.1. Selecting data <a class=\"anchor\" id=\"4.2.1\"></a>\n",
    "\n",
    "We start from this dataset from Kaggle with data from IMDB https://www.kaggle.com/datasets/omarhanyy/imdb-top-1000/discussion/393097\n"
   ]
  },
  {
   "cell_type": "code",
   "execution_count": null,
   "id": "6c265abe",
   "metadata": {},
   "outputs": [],
   "source": [
    "df_imdb = pd.read_csv(data_dir+\"imdb/imdb_top_1000.csv\")"
   ]
  },
  {
   "cell_type": "markdown",
   "id": "edf640ca",
   "metadata": {},
   "source": [
    "You already know how to access columns and rows: "
   ]
  },
  {
   "cell_type": "code",
   "execution_count": null,
   "id": "d8e4dd84-3115-4a82-903a-63f264841cc0",
   "metadata": {},
   "outputs": [],
   "source": [
    "df_imdb.columns"
   ]
  },
  {
   "cell_type": "code",
   "execution_count": null,
   "id": "14c258b6",
   "metadata": {},
   "outputs": [],
   "source": [
    "df_imdb[\"Series_Title\"] # returns a Series"
   ]
  },
  {
   "cell_type": "code",
   "execution_count": null,
   "id": "260179ec",
   "metadata": {},
   "outputs": [],
   "source": [
    "df_imdb.Series_Title # same thing; therefore: try to avoid using spaces in your column names"
   ]
  },
  {
   "cell_type": "markdown",
   "id": "a374e7e4",
   "metadata": {},
   "source": [
    "#### 4.2.2. Slicing data frames <a class=\"anchor\" id=\"4.2.2\"></a>\n",
    "Slicing means to output one or several columns or rows. \n",
    "Slices can be either accessed by label with loc or by index with iloc."
   ]
  },
  {
   "cell_type": "code",
   "execution_count": null,
   "id": "f0d0fa54",
   "metadata": {},
   "outputs": [],
   "source": [
    "# original data frame at this point, before slicing: \n",
    "df_imdb.head(3)"
   ]
  },
  {
   "cell_type": "markdown",
   "id": "1d9ff8e7",
   "metadata": {},
   "source": [
    "#### 4.2.2.1. Slicing by label with **loc** <a class=\"anchor\" id=\"4.2.2.1\"></a>\n",
    "To change individual fields of the dataframe you need to use loc (by label) or iloc (by position).\n",
    "With indexing, your output is the value of the field."
   ]
  },
  {
   "cell_type": "code",
   "execution_count": null,
   "id": "140886fd",
   "metadata": {},
   "outputs": [],
   "source": [
    "# syntax: df.loc[row_indexer,column_indexer]\n",
    "df_imdb.loc[2, \"Series_Title\"] # the output is the column value of the row with index 2 and column Series_Title "
   ]
  },
  {
   "cell_type": "markdown",
   "id": "7603ec9a",
   "metadata": {},
   "source": [
    "Note that in the above example, 2 means the label and not the position of the respective row!"
   ]
  },
  {
   "cell_type": "code",
   "execution_count": null,
   "id": "d9248416",
   "metadata": {},
   "outputs": [],
   "source": [
    "df_imdb.loc[2] # the output is the row with index 2 as pandas series"
   ]
  },
  {
   "cell_type": "code",
   "execution_count": null,
   "id": "60fe78c4",
   "metadata": {},
   "outputs": [],
   "source": [
    "df_imdb.loc[:, \"Series_Title\"] # the output is the column Series_Title as pandas series"
   ]
  },
  {
   "cell_type": "markdown",
   "id": "36df244c",
   "metadata": {},
   "source": [
    "#### 4.2.2.2.  Slicing by position with **iloc** <a class=\"anchor\" id=\"4.2.2.2\"></a>"
   ]
  },
  {
   "cell_type": "code",
   "execution_count": null,
   "id": "af95aee6",
   "metadata": {},
   "outputs": [],
   "source": [
    "df_imdb.iloc[1, 2] # the output is the column value of the row with position 1 \n",
    "                   # (note that python always counts from 0) and column with position 2"
   ]
  },
  {
   "cell_type": "code",
   "execution_count": null,
   "id": "a18a64fb",
   "metadata": {},
   "outputs": [],
   "source": [
    "df_imdb.iloc[1, 1: 5] # "
   ]
  },
  {
   "cell_type": "markdown",
   "id": "e47a68f5",
   "metadata": {},
   "source": [
    "### 4.2.3. Filtering <a class=\"anchor\" id=\"4.2.3\"></a>\n",
    "\n",
    "Pandas DataFrames (and Series) can be filtered by using **boolean expressions**."
   ]
  },
  {
   "cell_type": "code",
   "execution_count": null,
   "id": "e1295168",
   "metadata": {},
   "outputs": [],
   "source": [
    "df_imdb[df_imdb[\"Director\"]==\"Francis Ford Coppola\"] # use Boolean expressions for picking a row/ several rows"
   ]
  },
  {
   "cell_type": "code",
   "execution_count": null,
   "id": "96f44f5c",
   "metadata": {},
   "outputs": [],
   "source": [
    "df_imdb[df_imdb[\"Director\"]==\"Francis Ford Coppola\"].Star1"
   ]
  },
  {
   "cell_type": "markdown",
   "id": "183ab444-7e0f-40fd-8145-e6f8ce4874fa",
   "metadata": {},
   "source": [
    "Lets show the series and films premired in 2020 onwards"
   ]
  },
  {
   "cell_type": "code",
   "execution_count": null,
   "id": "5c4da005",
   "metadata": {},
   "outputs": [],
   "source": [
    "try:\n",
    "    df_imdb[df_imdb[\"Released_Year\"] > 2020] # Another boolean expression\n",
    "except Exception as e:\n",
    "     print(type(e), e)"
   ]
  },
  {
   "cell_type": "markdown",
   "id": "ea18a888-962f-4492-8994-fd0321f2b3f6",
   "metadata": {},
   "source": [
    "The series in column Released_Year is not a integer, let's convert to int"
   ]
  },
  {
   "cell_type": "code",
   "execution_count": null,
   "id": "d3796854-d752-49ce-bfe2-88267f9690f3",
   "metadata": {},
   "outputs": [],
   "source": [
    "try:\n",
    "    df_imdb[\"Released_Year\"] = df_imdb[\"Released_Year\"].astype(int) \n",
    "except Exception as e:\n",
    "     print(type(e), e)\n"
   ]
  },
  {
   "cell_type": "markdown",
   "id": "85090e15-631e-4550-9e90-f1504ab83173",
   "metadata": {},
   "source": [
    "It's not possible to convert it to int(). This error is caused because we try to convert an string to int instead to a float. So let's convert to int and then to float.\n",
    "We will use the function **apply()** https://pandas.pydata.org/docs/reference/api/pandas.DataFrame.apply.html"
   ]
  },
  {
   "cell_type": "code",
   "execution_count": null,
   "id": "8809c2e7-318b-4d88-ae88-1dc1ef42e8f6",
   "metadata": {},
   "outputs": [],
   "source": [
    "# Function we apply to the series\n",
    "def toInt(x, ):\n",
    "    try:\n",
    "        x = int(float(x)) # from string to float to int\n",
    "    except:\n",
    "        x = np.NaN\n",
    "    return x"
   ]
  },
  {
   "cell_type": "code",
   "execution_count": null,
   "id": "1a9b14fe-e602-4408-8d4b-8eaad389840c",
   "metadata": {},
   "outputs": [],
   "source": [
    "df_imdb['Released_Year'] = df_imdb['Released_Year'].apply(toInt)\n"
   ]
  },
  {
   "cell_type": "code",
   "execution_count": null,
   "id": "f9a11114-372c-45c9-b6a1-82e497b58605",
   "metadata": {},
   "outputs": [],
   "source": [
    "df_imdb[df_imdb[\"Released_Year\"] >= 2020]"
   ]
  },
  {
   "cell_type": "markdown",
   "id": "f9708639",
   "metadata": {},
   "source": [
    "### 4.2.4. Transposing, Sorting, and Grouping <a class=\"anchor\" id=\"4.2.4\"></a>\n",
    "\n",
    "You might have noticed that it's so easy and quick to work with columns and rather cumbersome and slow to work with rows. You can switch roles by transposing the table."
   ]
  },
  {
   "cell_type": "code",
   "execution_count": null,
   "id": "fe379d33",
   "metadata": {},
   "outputs": [],
   "source": [
    "df_imdb.T"
   ]
  },
  {
   "cell_type": "markdown",
   "id": "f7323253",
   "metadata": {},
   "source": [
    "You can sort an index alphabetically..."
   ]
  },
  {
   "cell_type": "code",
   "execution_count": null,
   "id": "fcf065cb",
   "metadata": {},
   "outputs": [],
   "source": [
    "df_imdb.T.sort_index(axis=0, ascending=True) # try also: ascending = False"
   ]
  },
  {
   "cell_type": "markdown",
   "id": "71fce334",
   "metadata": {},
   "source": [
    "... or sort rows by the values of a column, eg. countries by their number of inhabitants:"
   ]
  },
  {
   "cell_type": "code",
   "execution_count": null,
   "id": "23ea0e45",
   "metadata": {},
   "outputs": [],
   "source": [
    "df_imdb.sort_values(by=\"Released_Year\", ascending=True)"
   ]
  },
  {
   "cell_type": "markdown",
   "id": "bb7550f1",
   "metadata": {},
   "source": [
    "To show how to **group**, we will groub by director and count how many series has been included in the list"
   ]
  },
  {
   "cell_type": "code",
   "execution_count": null,
   "id": "6b9b1c07",
   "metadata": {},
   "outputs": [],
   "source": [
    "df_imdb[[\"Director\", \"Series_Title\"]].groupby('Director').count()"
   ]
  },
  {
   "cell_type": "markdown",
   "id": "8879f546-678b-4645-949b-5ce578f037ec",
   "metadata": {},
   "source": [
    "Now we check which directors have more than 10 productions in the list and we group by Star1 (the main character) to see which are the characters"
   ]
  },
  {
   "cell_type": "code",
   "execution_count": null,
   "id": "b6d8e610-054c-4056-abdb-042b73a42aee",
   "metadata": {},
   "outputs": [],
   "source": [
    "s = df_imdb[[\"Director\", \"Series_Title\"]].groupby('Director').count()\n",
    "s[s.Series_Title > 10].index.tolist()"
   ]
  },
  {
   "cell_type": "code",
   "execution_count": null,
   "id": "3a624ad1-2bcb-463a-b89f-aa0d884a7ec0",
   "metadata": {},
   "outputs": [],
   "source": [
    "df_imdb[df_imdb[\"Director\"] == s[s.Series_Title > 10].index.tolist()[0]][[\"Director\", \"Star1\"]].groupby('Star1').count()"
   ]
  },
  {
   "cell_type": "markdown",
   "id": "31329719",
   "metadata": {},
   "source": [
    "# TASK III: <a class=\"anchor\" id=\"task3\"></a>\n",
    "\n",
    "1. Add one of your favorite films or series to this dataset, including the actual data from IMDB.\n",
    "2. Calculate the average IMDB rating for all the films directed by the same director and save the result in a new column.\n",
    "\n",
    "You might want to crate a copy of the current data frame, so you don't have to rerun the notebook over and over again."
   ]
  },
  {
   "cell_type": "code",
   "execution_count": null,
   "id": "8ed30b16",
   "metadata": {},
   "outputs": [],
   "source": [
    "df_imdb_copy = df_imdb.copy()"
   ]
  },
  {
   "cell_type": "code",
   "execution_count": null,
   "id": "afb3ee43-96bb-4d1a-8625-cee77931a1f6",
   "metadata": {},
   "outputs": [],
   "source": [
    "#### solution"
   ]
  },
  {
   "cell_type": "markdown",
   "id": "9b5d16f4",
   "metadata": {},
   "source": [
    "## 5. Profiling <a class=\"anchor\" id=\"5\"></a>"
   ]
  },
  {
   "cell_type": "markdown",
   "id": "01878b9f-c2ea-4e2a-886b-5922fc9becff",
   "metadata": {},
   "source": [
    "`ydata-profiling` is a leading package for data profiling, that automates and standardizes the generation of detailed reports, complete with statistics and visualizations. It supports Pandas and Spark Dataframes, databases and data storages, and offers features such as data catalog, PII management, and time-series analysis.\n",
    "\n",
    "Install [ydata-profiling](https://github.com/ydataai/ydata-profiling#ydata-profiling)\n"
   ]
  },
  {
   "cell_type": "code",
   "execution_count": null,
   "id": "6a12409a-8090-4dda-90a9-59c620673f7a",
   "metadata": {},
   "outputs": [],
   "source": [
    "from ydata_profiling import ProfileReport\n"
   ]
  },
  {
   "cell_type": "code",
   "execution_count": null,
   "id": "17aa851f-454a-4545-a4d2-8d287fdff785",
   "metadata": {},
   "outputs": [],
   "source": [
    "profile = ProfileReport(df_imdb, title=\"Profiling Report\")\n",
    "profile"
   ]
  },
  {
   "cell_type": "markdown",
   "id": "67dccfec-2c96-4697-ac17-ef726662f5c5",
   "metadata": {},
   "source": [
    "## 6. Remarks <a class=\"anchor\" id=\"6\"></a>"
   ]
  },
  {
   "cell_type": "markdown",
   "id": "62247334-b032-4563-92f9-c48d3529a19d",
   "metadata": {},
   "source": [
    "1. Use tab completion in pandas: start to write df.pl and fill by pressing TAB to complete, e.g. to df.plot()\n",
    "2. Depending on what we find in the databases that you chose, we might have to deal with Missing Data https://pandas.pydata.org/pandas-docs/stable/user_guide/missing_data.html#missing-data"
   ]
  },
  {
   "cell_type": "code",
   "execution_count": null,
   "id": "e849be9f-89dd-4d4d-aa0a-bb0f17e72007",
   "metadata": {},
   "outputs": [],
   "source": []
  }
 ],
 "metadata": {
  "kernelspec": {
   "display_name": "Python (myenv39)",
   "language": "python",
   "name": "myenv39"
  },
  "language_info": {
   "codemirror_mode": {
    "name": "ipython",
    "version": 3
   },
   "file_extension": ".py",
   "mimetype": "text/x-python",
   "name": "python",
   "nbconvert_exporter": "python",
   "pygments_lexer": "ipython3",
   "version": "3.9.20"
  }
 },
 "nbformat": 4,
 "nbformat_minor": 5
}
