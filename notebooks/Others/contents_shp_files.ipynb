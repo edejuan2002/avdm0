{
 "cells": [
  {
   "cell_type": "code",
   "execution_count": 4,
   "metadata": {},
   "outputs": [
    {
     "name": "stdout",
     "output_type": "stream",
     "text": [
      "anyio==4.0.0\n",
      "appnope==0.1.3\n",
      "argon2-cffi==23.1.0\n",
      "argon2-cffi-bindings==21.2.0\n",
      "arrow==1.3.0\n",
      "asttokens==2.4.0\n",
      "async-lru==2.0.4\n",
      "attrs==23.1.0\n",
      "Babel==2.13.0\n",
      "backcall==0.2.0\n",
      "beautifulsoup4==4.12.2\n",
      "bleach==6.1.0\n",
      "bokeh==2.4.3\n",
      "certifi==2023.7.22\n",
      "cffi==1.16.0\n",
      "charset-normalizer==3.3.1\n",
      "click==8.1.7\n",
      "click-plugins==1.1.1\n",
      "cligj==0.7.2\n",
      "comm==0.1.4\n",
      "contourpy==1.1.1\n",
      "cycler==0.12.1\n",
      "debugpy==1.8.0\n",
      "decorator==5.1.1\n",
      "defusedxml==0.7.1\n",
      "docopt==0.6.2\n",
      "entrypoints==0.4\n",
      "et-xmlfile==1.1.0\n",
      "exceptiongroup==1.1.3\n",
      "executing==2.0.0\n",
      "fastjsonschema==2.18.1\n",
      "fiona==1.9.5\n",
      "fonttools==4.43.1\n",
      "fqdn==1.5.1\n",
      "geopandas==0.14.0\n",
      "idna==3.4\n",
      "importlib-metadata==6.8.0\n",
      "importlib-resources==6.1.0\n",
      "ipykernel==6.25.2\n",
      "ipython==8.16.1\n",
      "ipython-genutils==0.2.0\n",
      "ipywidgets==8.1.1\n",
      "isoduration==20.11.0\n",
      "jedi==0.19.1\n",
      "Jinja2==3.1.2\n",
      "json5==0.9.14\n",
      "jsonpointer==2.4\n",
      "jsonschema==4.19.1\n",
      "jsonschema-specifications==2023.7.1\n",
      "jupyter==1.0.0\n",
      "jupyter-console==6.6.3\n",
      "jupyter-events==0.8.0\n",
      "jupyter-lsp==2.2.0\n",
      "jupyter_client==7.4.9\n",
      "jupyter_core==5.4.0\n",
      "jupyter_server==2.8.0\n",
      "jupyter_server_terminals==0.4.4\n",
      "jupyterlab==4.0.7\n",
      "jupyterlab-pygments==0.2.2\n",
      "jupyterlab-widgets==3.0.9\n",
      "jupyterlab_server==2.25.0\n",
      "kiwisolver==1.4.5\n",
      "MarkupSafe==2.1.3\n",
      "matplotlib==3.8.0\n",
      "matplotlib-inline==0.1.6\n",
      "mistune==3.0.2\n",
      "nbclassic==1.0.0\n",
      "nbclient==0.8.0\n",
      "nbconvert==7.9.2\n",
      "nbformat==5.9.2\n",
      "nest-asyncio==1.5.8\n",
      "notebook==6.5.5\n",
      "notebook_shim==0.2.3\n",
      "numpy==1.26.1\n",
      "openpyxl==3.1.2\n",
      "overrides==7.4.0\n",
      "packaging==23.2\n",
      "pandas==2.1.2\n",
      "pandas-bokeh==0.5.5\n",
      "pandocfilters==1.5.0\n",
      "parso==0.8.3\n",
      "pexpect==4.8.0\n",
      "pickleshare==0.7.5\n",
      "Pillow==10.1.0\n",
      "pipreqs==0.4.13\n",
      "platformdirs==3.11.0\n",
      "prometheus-client==0.17.1\n",
      "prompt-toolkit==3.0.39\n",
      "psutil==5.9.6\n",
      "ptyprocess==0.7.0\n",
      "pure-eval==0.2.2\n",
      "pycparser==2.21\n",
      "Pygments==2.16.1\n",
      "pyparsing==3.1.1\n",
      "pyproj==3.6.1\n",
      "python-dateutil==2.8.2\n",
      "python-json-logger==2.0.7\n",
      "pytz==2023.3.post1\n",
      "PyYAML==6.0.1\n",
      "pyzmq==24.0.1\n",
      "qtconsole==5.4.4\n",
      "QtPy==2.4.1\n",
      "referencing==0.30.2\n",
      "requests==2.31.0\n",
      "rfc3339-validator==0.1.4\n",
      "rfc3986-validator==0.1.1\n",
      "rpds-py==0.10.6\n",
      "scipy==1.11.3\n",
      "Send2Trash==1.8.2\n",
      "shapely==2.0.2\n",
      "six==1.16.0\n",
      "sniffio==1.3.0\n",
      "sodapy==2.2.0\n",
      "soupsieve==2.5\n",
      "stack-data==0.6.3\n",
      "terminado==0.17.1\n",
      "tinycss2==1.2.1\n",
      "tomli==2.0.1\n",
      "tornado==6.3.3\n",
      "traitlets==5.11.2\n",
      "types-python-dateutil==2.8.19.14\n",
      "typing_extensions==4.8.0\n",
      "tzdata==2023.3\n",
      "uri-template==1.3.0\n",
      "urllib3==2.0.7\n",
      "wcwidth==0.2.8\n",
      "webcolors==1.13\n",
      "webencodings==0.5.1\n",
      "websocket-client==1.6.4\n",
      "widgetsnbextension==4.0.9\n",
      "xyzservices==2023.10.1\n",
      "yarg==0.1.9\n",
      "zipp==3.17.0\n",
      "Note: you may need to restart the kernel to use updated packages.\n"
     ]
    }
   ],
   "source": [
    "pip freeze\n"
   ]
  },
  {
   "cell_type": "markdown",
   "metadata": {
    "jp-MarkdownHeadingCollapsed": true
   },
   "source": [
    "\n",
    "\n",
    "# Spain, different maps\n",
    "\n",
    "Downloaded from http://centrodedescargas.cnig.es/CentroDescargas/index.jsp > Mapas vectoriales y Bases Cartográficas y Topográficas:\n",
    "\n",
    "    BCN500\n",
    "    Description: Base Cartográfica Nacional a escala 1:500.000.\n",
    "    SGR: ETRS89. Coordenadas geográficas longitud y latitud.\n",
    "    Download entity: toda España y por capas temáticas.\n",
    "    Format: shapefile (.shp)\n"
   ]
  },
  {
   "cell_type": "code",
   "execution_count": null,
   "metadata": {},
   "outputs": [],
   "source": [
    "os.listdir(\"../../data/carto/\")"
   ]
  },
  {
   "cell_type": "code",
   "execution_count": null,
   "metadata": {},
   "outputs": [],
   "source": [
    "import pandas as pd\n",
    "import geopandas as gpd\n",
    "from matplotlib import pyplot as plt\n",
    "import pprint\n",
    "\n",
    "import os\n",
    "\n",
    "# data directory\n",
    "\n",
    "data_dir = \"../../data/\"\n",
    " \n",
    "# Get the list of all shp files in BCN500 directory\n",
    "dir_list = [x for x in os.listdir(data_dir + \"BCN500/\") if x[-4:]==\".shp\"]\n",
    "\n",
    "dir_list"
   ]
  },
  {
   "cell_type": "code",
   "execution_count": null,
   "metadata": {},
   "outputs": [],
   "source": [
    "ids = {x:x[7:-4] for x in dir_list}\n",
    "ids"
   ]
  },
  {
   "cell_type": "code",
   "execution_count": null,
   "metadata": {},
   "outputs": [],
   "source": [
    "spain = {}\n",
    "for maps in dir_list:\n",
    "    print(ids[maps])\n",
    "    try: \n",
    "        spain[ids[maps]] = gpd.read_file(data_dir + \"BCN500/\"+maps, crs=\"EPSG:4326\")\n",
    "        display(spain[ids[maps]].head(3))\n",
    "        \n",
    "        f, ax = plt.subplots()\n",
    "        spain[ids[maps]].plot(ax = ax)\n",
    "        plt.show()\n",
    "        plt.close()\n",
    "    except:\n",
    "        print(\"could not be plotted\")\n",
    "    print(\"\\n\\n\\n\\n\")"
   ]
  },
  {
   "cell_type": "markdown",
   "metadata": {},
   "source": [
    "- EV_... : Entidades virtuales lineales para el posicionamiento de\n",
    "- ETIQUETA... : Tabla con geometría texto que contiene los textos que provienen del etiquetado automático de toda la toponimia"
   ]
  },
  {
   "cell_type": "markdown",
   "metadata": {},
   "source": [
    "# Catalunya, administrative division\n",
    "\n",
    "Download zip file from https://www.icgc.cat/ca/Descarregues/Cartografia-vectorial/Divisions-administratives and unzip it aside of this .ipynb into a folder named \"divisions_administratius\"."
   ]
  },
  {
   "cell_type": "code",
   "execution_count": null,
   "metadata": {},
   "outputs": [],
   "source": [
    "import pandas as pd\n",
    "import geopandas as gpd\n",
    "from matplotlib import pyplot as plt\n",
    "import pprint\n",
    "\n",
    "import os\n",
    " \n",
    "# Get the list of all shp files in BCN500 directory\n",
    "dir_list_cat = [x for x in os.listdir(\"./divisions_administratius/\") if x[-4:]==\".shp\"]\n",
    "# first number: resolution/ scale, second number: Date\n",
    "\n",
    "dir_list_cat"
   ]
  },
  {
   "cell_type": "code",
   "execution_count": null,
   "metadata": {},
   "outputs": [],
   "source": [
    "# list only highest resolution\n",
    "dir_list_cat = [x for x in os.listdir(\"./divisions_administratius/\") if x[-21:]==\"-1000000-20220801.shp\"]\n",
    "dir_list_cat"
   ]
  },
  {
   "cell_type": "code",
   "execution_count": null,
   "metadata": {},
   "outputs": [],
   "source": [
    "ids = {x:x[31:-21] for x in dir_list_cat}\n",
    "ids"
   ]
  },
  {
   "cell_type": "code",
   "execution_count": null,
   "metadata": {},
   "outputs": [],
   "source": [
    "cat_maps = {}\n",
    "for maps in dir_list_cat:\n",
    "    cat_maps[ids[maps]] = gpd.read_file(\"./divisions_administratius/\"+maps, crs=\"EPSG:4326\")\n",
    "    print(ids[maps])\n",
    "    display(cat_maps[ids[maps]].head())\n",
    "    cat_maps[ids[maps]].plot()\n",
    "    plt.show()\n",
    "    print(\"\\n\\n\\n\\n\")"
   ]
  },
  {
   "cell_type": "code",
   "execution_count": null,
   "metadata": {},
   "outputs": [],
   "source": [
    "cat_maps[\"comarques\"]"
   ]
  }
 ],
 "metadata": {
  "kernelspec": {
   "display_name": "ub",
   "language": "python",
   "name": "ub"
  },
  "language_info": {
   "codemirror_mode": {
    "name": "ipython",
    "version": 3
   },
   "file_extension": ".py",
   "mimetype": "text/x-python",
   "name": "python",
   "nbconvert_exporter": "python",
   "pygments_lexer": "ipython3",
   "version": "3.9.6"
  }
 },
 "nbformat": 4,
 "nbformat_minor": 4
}
