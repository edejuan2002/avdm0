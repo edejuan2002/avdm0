{
 "cells": [
  {
   "cell_type": "markdown",
   "id": "23347b24",
   "metadata": {},
   "source": [
    "# Matplotlib Pyplot - the canvas"
   ]
  },
  {
   "cell_type": "markdown",
   "id": "90feb363",
   "metadata": {},
   "source": [
    "Load the matplotlib.pyplot library into namespace plt:"
   ]
  },
  {
   "cell_type": "code",
   "execution_count": null,
   "id": "da464c69",
   "metadata": {},
   "outputs": [],
   "source": [
    "from matplotlib import pyplot as plt"
   ]
  },
  {
   "cell_type": "markdown",
   "id": "b4aa98d2",
   "metadata": {},
   "source": [
    "Only necessary for jupyter notebooks to show plotting result inside the notebook: "
   ]
  },
  {
   "cell_type": "code",
   "execution_count": null,
   "id": "e0349219",
   "metadata": {},
   "outputs": [],
   "source": [
    "%matplotlib inline"
   ]
  },
  {
   "cell_type": "markdown",
   "id": "3200963e",
   "metadata": {},
   "source": [
    "## Creating a canvas \n",
    "\"canvas\" = \"Canemàs\", \"Lona\", \"Leinwand\".\n",
    "The following two ways of creating a canvas are equivalent:"
   ]
  },
  {
   "cell_type": "code",
   "execution_count": null,
   "id": "fba82fcd",
   "metadata": {},
   "outputs": [],
   "source": [
    "f, ax = plt.subplots() # create one \"figure\" with one \"axes\""
   ]
  },
  {
   "cell_type": "code",
   "execution_count": null,
   "id": "db3cf258",
   "metadata": {},
   "outputs": [],
   "source": [
    "# same thing, said in different words:\n",
    "f  = plt.figure()\n",
    "ax = f.add_subplot()"
   ]
  },
  {
   "cell_type": "markdown",
   "id": "1d7acbab",
   "metadata": {},
   "source": [
    "One figure can also be generated with various axes:"
   ]
  },
  {
   "cell_type": "code",
   "execution_count": null,
   "id": "1142161a",
   "metadata": {},
   "outputs": [],
   "source": [
    "f, ax = plt.subplots(2, 3) # create one figure with 6 axes, two rows, three columns"
   ]
  },
  {
   "cell_type": "markdown",
   "id": "eb1be905",
   "metadata": {},
   "source": [
    "The object \"ax\" is then a numpy array of axes:"
   ]
  },
  {
   "cell_type": "code",
   "execution_count": null,
   "id": "8f8b19b9",
   "metadata": {},
   "outputs": [],
   "source": [
    "type(ax)"
   ]
  },
  {
   "cell_type": "markdown",
   "id": "0a432783",
   "metadata": {},
   "source": [
    "That means you can access the different subplots as you would access a numpy array entry: "
   ]
  },
  {
   "cell_type": "code",
   "execution_count": null,
   "id": "56fc4894",
   "metadata": {},
   "outputs": [],
   "source": [
    "ax[0, 1].plot([1, 2, 3, 4]) # refer to a specific subplot and plot a line\n",
    "f # show figure f with subplots ax"
   ]
  },
  {
   "cell_type": "code",
   "execution_count": null,
   "id": "5d072740",
   "metadata": {},
   "outputs": [],
   "source": [
    "f, ax = plt.subplots(2, 3, figsize = (9, 4)) # change the size of the canvas"
   ]
  },
  {
   "cell_type": "markdown",
   "id": "0f76f198",
   "metadata": {},
   "source": [
    "### Spacing between axes\n",
    "The above plots look horrible! Everything overlaps! To adapt the spacing between subplots you can use a quick \"magic command\":"
   ]
  },
  {
   "cell_type": "code",
   "execution_count": null,
   "id": "616233dc",
   "metadata": {},
   "outputs": [],
   "source": [
    "# set the spacing between subplots magically\n",
    "f.tight_layout()\n",
    "f"
   ]
  },
  {
   "cell_type": "markdown",
   "id": "02b10c1d",
   "metadata": {},
   "source": [
    "If you want more specific spacings of the subplots, matplotlib allows you to adapt all white spaces around and between subplots."
   ]
  },
  {
   "cell_type": "code",
   "execution_count": null,
   "id": "7cfc0572",
   "metadata": {},
   "outputs": [],
   "source": [
    "# set the spacing between subplots manually\n",
    "f.subplots_adjust(left=0.3,\n",
    "                  bottom=0.2, \n",
    "                  right=0.85, \n",
    "                  top=0.95, \n",
    "                  wspace=0.4, \n",
    "                  hspace=0.6)\n",
    "f"
   ]
  },
  {
   "cell_type": "markdown",
   "id": "cb2e146a",
   "metadata": {},
   "source": [
    "Even more specific subplot arrangements can be obtained with **subplot2grid** (or **gridspec**)."
   ]
  },
  {
   "cell_type": "code",
   "execution_count": null,
   "id": "2fbb0f40",
   "metadata": {},
   "outputs": [],
   "source": [
    "f2 = plt.figure(figsize=(5, 6))\n",
    "ax1 = plt.subplot2grid((3, 2), (0, 0), colspan=1)\n",
    "ax2 = plt.subplot2grid((3, 2), (0, 1), colspan=1)\n",
    "ax3 = plt.subplot2grid((3, 2), (1, 0), colspan=2)\n",
    "ax4 = plt.subplot2grid((3, 2), (2, 0), colspan=2)\n",
    "plt.tight_layout()"
   ]
  },
  {
   "cell_type": "markdown",
   "id": "4d29d2c8",
   "metadata": {},
   "source": [
    "### Playing around with the canvas\n",
    "Add an inset:"
   ]
  },
  {
   "cell_type": "code",
   "execution_count": null,
   "id": "617d96d9",
   "metadata": {},
   "outputs": [],
   "source": [
    "ax[0, 1].inset_axes([0.3, 0.25, 0.4, 0.5]) # adding an inset to an axes inst., with param. [x0, y0, width, height]\n",
    "f"
   ]
  },
  {
   "cell_type": "markdown",
   "id": "b2f1291f",
   "metadata": {},
   "source": [
    "Choose a different projection:"
   ]
  },
  {
   "cell_type": "code",
   "execution_count": null,
   "id": "254d2077",
   "metadata": {},
   "outputs": [],
   "source": [
    "fig, axs = plt.subplots(2, 2, subplot_kw=dict(projection=\"polar\")) # with subplot keywords\n",
    "plt.tight_layout()"
   ]
  },
  {
   "cell_type": "markdown",
   "id": "901ff240",
   "metadata": {},
   "source": [
    "Share x (or y) axis between subplots in the same column (or row)."
   ]
  },
  {
   "cell_type": "code",
   "execution_count": null,
   "id": "057ecc86",
   "metadata": {},
   "outputs": [],
   "source": [
    "fig, axs = plt.subplots(3, 2, sharex=True) # plots in the same column share the x-axis"
   ]
  },
  {
   "cell_type": "code",
   "execution_count": null,
   "id": "06e37dee",
   "metadata": {},
   "outputs": [],
   "source": [
    "fig, axs = plt.subplots(3, 2, sharex=True, sharey=True) # plots in the same column/row share x-axis/ y-axis"
   ]
  }
 ],
 "metadata": {
  "kernelspec": {
   "display_name": "ub",
   "language": "python",
   "name": "ub"
  },
  "language_info": {
   "codemirror_mode": {
    "name": "ipython",
    "version": 3
   },
   "file_extension": ".py",
   "mimetype": "text/x-python",
   "name": "python",
   "nbconvert_exporter": "python",
   "pygments_lexer": "ipython3",
   "version": "3.9.6"
  }
 },
 "nbformat": 4,
 "nbformat_minor": 5
}
