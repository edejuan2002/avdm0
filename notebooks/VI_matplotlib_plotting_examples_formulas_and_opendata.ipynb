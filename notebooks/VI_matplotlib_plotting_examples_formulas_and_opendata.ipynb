{
 "cells": [
  {
   "cell_type": "markdown",
   "id": "7f85020a",
   "metadata": {},
   "source": [
    "# Plotting in Examples Formulas and Open Data in Matplotlib\n",
    "\n",
    "For a start, you need sth that you can actually plot. \n",
    "\n",
    "1. [Explicit Formulas](#1)\n",
    "2. [Numerical Simulations](#2)\n",
    "3. [Your own Measurements](#3)\n",
    "4. [Open Data](#4)\n",
    "\n",
    "For more, check out the official matplotlib introduction jupyter notebook at https://matplotlib.org/stable/tutorials/introductory/pyplot.html."
   ]
  },
  {
   "cell_type": "markdown",
   "id": "5aa4dfb7-e641-44d8-860b-c42ef0025541",
   "metadata": {},
   "source": [
    "#### Data directory"
   ]
  },
  {
   "cell_type": "code",
   "execution_count": null,
   "id": "a5b8ea95-2f60-4c7f-b727-96d2d72fbd82",
   "metadata": {},
   "outputs": [],
   "source": [
    "data_dir = '../data/'"
   ]
  },
  {
   "cell_type": "markdown",
   "id": "58f940f9",
   "metadata": {
    "jp-MarkdownHeadingCollapsed": true
   },
   "source": [
    "## 1. Formulas<a class=\"anchor\" id=1></a>\n",
    "**1st Example**: explicit: inverse Gaussian distribution = Wald distribution\n",
    "    "
   ]
  },
  {
   "cell_type": "code",
   "execution_count": null,
   "id": "7c698d8c",
   "metadata": {},
   "outputs": [],
   "source": [
    "from matplotlib import pyplot as plt\n",
    "import numpy as np\n",
    "import itertools # for creating combinations of plotting parameters\n",
    "\n",
    "def wald(x, p_lambda, mu):\n",
    "    \"\"\"\n",
    "    Wald distribution / Inverse Gaussian distribution\n",
    "    Two parameter probability distribution\n",
    "    mu       :: mean\n",
    "    p_lambda :: shape parameter lambda\n",
    "    \"\"\"\n",
    "    return p_lambda/(2*np.pi*x**3)*np.exp(-p_lambda*(x-mu)**2/(2*mu**2*x))\n",
    "\n",
    "# create canvas\n",
    "f, ax = plt.subplots()\n",
    "\n",
    "# parameters\n",
    "N_x = 1000\n",
    "x= np.linspace(0.001, 1.25, N_x)\n",
    "p_lambda = [0.3, 1, 3]\n",
    "mu = [1, 3]\n",
    "\n",
    "# plotting several lines cannot be done at once with pure matplotlib, you need to iterate\n",
    "for lam, m in itertools.product(p_lambda, mu):\n",
    "    y = wald(x, lam, m)\n",
    "    ax.plot(x, y, label = r\"$\\lambda=$\"+repr(lam)+r\", $\\mu=$\"+repr(m))\n",
    "\n",
    "# labelling    \n",
    "ax.set_title(\"Wald distribution\")\n",
    "ax.set_xlabel(\"x\")\n",
    "ax.set_ylabel(r\"$f(x; \\mu, \\lambda)$\")\n",
    "\n",
    "# legend\n",
    "ax.legend(loc=1, title = \"parameters\")"
   ]
  },
  {
   "cell_type": "markdown",
   "id": "d26a9d07",
   "metadata": {},
   "source": [
    "**2nd Example**: plot a full circle at once (parametrization)\n"
   ]
  },
  {
   "cell_type": "code",
   "execution_count": null,
   "id": "a67fe362",
   "metadata": {
    "scrolled": true
   },
   "outputs": [],
   "source": [
    "# generate numpy array with angles between 0 and 2pi\n",
    "phi = np.linspace(0., 2*np.pi, 100)\n",
    "\n",
    "# create canvas\n",
    "f, ax = plt.subplots()\n",
    "\n",
    "# plot parametrization\n",
    "ax.plot(np.sin(phi), np.cos(phi))\n",
    "\n",
    "# scale x- and y-axis equally, so the circle actually looks like a circle \n",
    "ax.axis('equal')\n",
    "# axis labelling\n",
    "ax.set_xlabel(\"x\"), ax.set_ylabel(\"y\", rotation=0)"
   ]
  },
  {
   "cell_type": "markdown",
   "id": "41ce9114",
   "metadata": {},
   "source": [
    "**3rd Example**: it might seem harder to find a parametrization of this implicit function: $x\\sin(x) = y^2\\cos(y)$\n",
    "so you can plot it as a contour plot. Once you see the result, you regognize that it is a Lissajous curve, so you immedeatly know the correct parametrization. \n"
   ]
  },
  {
   "cell_type": "code",
   "execution_count": null,
   "id": "21f951b5",
   "metadata": {},
   "outputs": [],
   "source": [
    "# x*sin(x) = y^2*cos(y)      (1)\n",
    "# generate numpy arrays with angles between -pi/2 and pi/2 (principal branch)\n",
    "x = np.linspace(-np.pi/2, np.pi/2, 1000)\n",
    "y = np.linspace(-np.pi/2, np.pi/2, 1000)\n",
    "\n",
    "# create grid on which contour is plotted\n",
    "X, Y = np.meshgrid(x, y)\n",
    "\n",
    "# F = left side of the equation, G = right side\n",
    "F = X*np.sin(X)\n",
    "G = Y**2*np.cos(Y)\n",
    "\n",
    "f, ax = plt.subplots()\n",
    "# plot contour for which Z = F - G = 0\n",
    "ax.contour(X, Y, (F - G), [0]) \n",
    "\n",
    "ax.axis('equal')\n",
    "ax.set_xlabel(\"x\"), ax.set_ylabel(\"y\")"
   ]
  },
  {
   "cell_type": "markdown",
   "id": "5cb35747",
   "metadata": {},
   "source": [
    "**4th Example:**\n",
    "Plot threedimensional formulas like:\n",
    "\n",
    "$$R(\\theta, \\phi) = \\cos(\\phi^2), \\quad\\theta\\in[0, 2\\pi], \\quad\\phi\\in[0,\\pi]$$"
   ]
  },
  {
   "cell_type": "code",
   "execution_count": null,
   "id": "fa8e53e4",
   "metadata": {},
   "outputs": [],
   "source": [
    "# load 3d plotting tools\n",
    "import mpl_toolkits.mplot3d.axes3d as axes3d\n",
    "\n",
    "# create meshgrid of intervals for theta and phi\n",
    "theta, phi = np.linspace(0, 2*np.pi, 100), np.linspace(0, np.pi, 100)\n",
    "THETA, PHI = np.meshgrid(theta, phi)\n",
    "\n",
    "# calculate R on the mesh\n",
    "R = np.cos(PHI**2)\n",
    "# calculate X, Y, Z values on the mesh\n",
    "X = R*np.sin(PHI)*np.cos(THETA)\n",
    "Y = R*np.sin(PHI)*np.sin(THETA)\n",
    "Z = R*np.cos(PHI)\n",
    "\n",
    "# create 3d canvas\n",
    "f = plt.figure(figsize = (10, 10))\n",
    "ax = f.add_subplot(1,1,1, projection='3d')\n",
    "# plot 3d shape\n",
    "plot = ax.plot_surface(X, Y, Z,  \n",
    "                       cmap=plt.get_cmap('seismic'),\n",
    "                       antialiased=False, \n",
    "                       alpha=0.5)\n",
    "ax.set_xlabel(\"x\"), ax.set_ylabel(\"y\"), ax.set_zlabel(\"z\")\n",
    "\n",
    "\n",
    "plt.show()"
   ]
  },
  {
   "cell_type": "markdown",
   "id": "c947ec9d",
   "metadata": {},
   "source": [
    "## 2. Numerical Simulations <a class=\"anchor\" id=2></a>\n",
    "Example: Complex Kuramoto Order Parameter"
   ]
  },
  {
   "cell_type": "code",
   "execution_count": null,
   "id": "5c0d3242",
   "metadata": {},
   "outputs": [],
   "source": [
    "\"\"\"\n",
    "plot complex Kuramoto order parameter for a finite number of oscillators\n",
    "\"\"\"\n",
    "\n",
    "# public modules\n",
    "import numpy as np\n",
    "import cmath as cm\n",
    "import os\n",
    "\n",
    "from matplotlib import pyplot as plt\n",
    "from scipy.integrate import odeint # integration of dynamical equations\n",
    "import time\n",
    "\n",
    "def func(y, t, N_osc, omg, epsilon):\n",
    "    \"\"\" Kuramoto model with natural frequencies omg, \n",
    "    global identical coupling epsilon, \n",
    "    N_osc oscillators, y[k] == \\theta_k\n",
    "    \\dot\\theta_k=\\omega_k+\\frac{\\epsilon}{N}\\sum_{j=1}^N\\sin(\\theta_j-\\theta_k)\n",
    "    \"\"\"\n",
    "    y_help = np.zeros((N_osc))\n",
    "    for i in np.arange(N_osc):\n",
    "        y_help[i] = sum(np.sin(y-y[i]))\n",
    "    return (omg + epsilon*y_help / N_osc)\n",
    "    \n",
    "# system parameter\n",
    "N_osc   = 25             # number of oscillators\n",
    "spread  = 1              # spread of oscillators natural frequency distribution\n",
    "omg     = np.sort(spread*np.random.randn(N_osc)) # natural frequencies, ordered\n",
    "epsilon = 1.8          # coupling strength\n",
    "\n",
    "# intergration and parameters   \n",
    "N_time  = 10**4 # time steps\n",
    "delta_t = 0.01\n",
    "y0      = (4*np.random.randn(N_osc))%(2.*np.pi) # random initial conditions of N_osc phases\n",
    "t       = np.arange(N_time)*delta_t      # time points startin with init cond\n",
    "y       = odeint(func, y0, t, (N_osc, omg, epsilon))%(2*np.pi) # cpp integrator dynamical systems\n",
    "\n",
    "# complex order parameter and its phase\n",
    "order = np.sum(np.cos(y)+1j*np.sin(y), axis=1)/N_osc\n",
    "phi   = np.angle(order)"
   ]
  },
  {
   "cell_type": "code",
   "execution_count": null,
   "id": "ab885f75-a1d7-4e47-b4d4-d586ba4cc882",
   "metadata": {},
   "outputs": [],
   "source": [
    "pip install scipy==1.11.3\n"
   ]
  },
  {
   "cell_type": "code",
   "execution_count": null,
   "id": "b23bbc56",
   "metadata": {},
   "outputs": [],
   "source": [
    "# plot complex order parameter in complex (=polar) plane\n",
    "ax = plt.subplot(111, polar=True)\n",
    "\n",
    "# plot trajectory\n",
    "ax.plot(phi, abs(order))\n",
    "\n",
    "# distinguish start and ending of the trajectory with different colors\n",
    "ax.plot(phi[0:50], abs(order[0:50]), label = 'start', color=\"r\")\n",
    "ax.plot(phi[N_time-50:N_time-1],abs(order[N_time-50:N_time-1]), label = 'end', color=\"y\")\n",
    "\n",
    "# set maximum value for radius\n",
    "ax.set_rmax(1.1)\n",
    "\n",
    "# legend & grid\n",
    "plt.legend(loc = 1)\n",
    "ax.grid(True)"
   ]
  },
  {
   "cell_type": "code",
   "execution_count": null,
   "id": "abc1f925",
   "metadata": {},
   "outputs": [],
   "source": [
    "# plot absolute value over time \n",
    "plt.plot(abs(order), label = 'mean field order parameter')\n",
    "plt.legend(loc = 'best')\n",
    "xl = plt.xlabel('t')\n",
    "plt.title('mean field Kuramoto, N_osc ='+repr(N_osc)+\"\\n\")\n",
    "plt.grid(True)"
   ]
  },
  {
   "cell_type": "markdown",
   "id": "47903b7b",
   "metadata": {},
   "source": [
    "# 3. Own Measurements<a class=\"anchor\" id=3></a>\n",
    "\n",
    "Plotting your own data is the same as plotting other people's data with the difference that:\n",
    "- you already know the detailed specifics of your data (because you **documented** them well).\n",
    "- you get to choose the file format in which you store the data (e.g. consider hdf5 and numpy.savez for larger datasets)\n",
    "\n",
    "Make sure you store all necessary data for reproducing your research (store it both with the dataset and in the figure caption). The best way to plan this is to write a detailed well-thought Data Management Plan, and update it during the course of the research.\n",
    "\n",
    "# 4. Open Data<a class=\"anchor\" id=4></a>\n",
    "\n",
    "With other peoples dataset in contrast, it can be quite hard to find out, how which data was obtained exactly (and therefore what it means), especially if it is not **documented** well. Also you might come across very wild types of file formats. We here use analisi.transparencia.cat, because it offers an API, reasonably good documentation, and - interesting data."
   ]
  },
  {
   "cell_type": "code",
   "execution_count": null,
   "id": "f7381ac0",
   "metadata": {},
   "outputs": [],
   "source": [
    "import pandas as pd\n",
    "from sodapy import Socrata\n",
    "\n",
    "# Unauthenticated client only works with public data sets. Note 'None'\n",
    "# in place of application token, and no username or password:\n",
    "client = Socrata(\"analisi.transparenciacatalunya.cat\", None)\n",
    "print(\"Format of dataset: \", type(client))\n",
    "\n",
    "# First 2000 results, returned as JSON from API / converted to Python list of\n",
    "# dictionaries by sodapy.\n",
    "# from: https://analisi.transparenciacatalunya.cat/Salut/Vacunaci-per-al-COVID-19-dosis-administrades-per-m/irki-p3c7\n",
    "results = client.get(\"irki-p3c7\", limit=2000) # 2000 is the number of rows that we scrape from the web page\n",
    "\n",
    "# Convert to pandas DataFrame\n",
    "results_df = pd.DataFrame.from_records(results)\n",
    "results_df"
   ]
  },
  {
   "cell_type": "markdown",
   "id": "bb329b2d",
   "metadata": {},
   "source": [
    "#### Where possible, translate Catalan texts into English in your plots."
   ]
  },
  {
   "cell_type": "code",
   "execution_count": null,
   "id": "d2dc5d33",
   "metadata": {},
   "outputs": [],
   "source": [
    "results_df.fabricant.value_counts().rename({\"No administrada\":\"Not administered\"}).plot(kind=\"bar\")\n",
    "plt.gcf().gca().set_title(\"Fabricants of vaccination\")\n",
    "plt.gcf().gca().set_ylabel(\"Number of entries in data base\")"
   ]
  },
  {
   "cell_type": "markdown",
   "id": "be982611",
   "metadata": {},
   "source": [
    "### Bad example: \n",
    "Plot daily counts as line plot."
   ]
  },
  {
   "cell_type": "code",
   "execution_count": null,
   "id": "ff1734e6",
   "metadata": {},
   "outputs": [],
   "source": [
    "# plot dates of vaccinations\n",
    "from datetime import datetime\n",
    "import pandas as pd\n",
    "\n",
    "f, ax = plt.subplots()\n",
    "# convert dates in table to python datetimes\n",
    "dates = pd.Series([datetime.strptime(date_time_str, '%Y-%m-%dT%H:%M:%S.%f').date() for date_time_str in results_df[\"data\"]])\n",
    "vaccines_per_date = dates.value_counts().sort_index() # count vaccinations per date and save in pandas dataframe\n",
    "l1, = ax.plot(vaccines_per_date.index, vaccines_per_date)\n",
    "# make dates better readable by tilting\n",
    "plt.xticks(rotation=60)\n",
    "# label everything\n",
    "ax.set_title(\"Vaccines per day in Catalunya\")\n",
    "ax.set_xlabel(\"date\")\n",
    "ax.set_ylabel(\"# vaccinations\")"
   ]
  },
  {
   "cell_type": "markdown",
   "id": "9b95004e",
   "metadata": {},
   "source": [
    "#### Better:\n",
    "Barplot!"
   ]
  },
  {
   "cell_type": "code",
   "execution_count": null,
   "id": "ce4ca08a",
   "metadata": {},
   "outputs": [],
   "source": [
    "l1.remove()\n",
    "ax.bar(vaccines_per_date.index, vaccines_per_date)\n",
    "#ax.set_ylim([0, 90])\n",
    "f.set_size_inches(18.5, 10.5)\n",
    "f"
   ]
  },
  {
   "cell_type": "markdown",
   "id": "07602b9c",
   "metadata": {},
   "source": [
    "Observation: In the two plots above, it would probably would more sense to plot the y-axis in logarithmic scale with <code>ax.semilogy()</code>. **Try it out :-)**"
   ]
  },
  {
   "cell_type": "code",
   "execution_count": null,
   "id": "a19d89d9",
   "metadata": {},
   "outputs": [],
   "source": [
    "# also plotting the provinces in a pie chart is a pandas oneliner\n",
    "results_df[\"provincia\"].rename(\"province\").value_counts().rename({\"No classificat\":\"Not classified\"}).plot(kind = 'pie')"
   ]
  },
  {
   "cell_type": "markdown",
   "id": "0728d06c",
   "metadata": {},
   "source": [
    "### Beyond matplotlib"
   ]
  },
  {
   "cell_type": "markdown",
   "id": "4c1d8ecd-193b-4f75-af85-30a102058dea",
   "metadata": {},
   "source": [
    "#### Seaborn"
   ]
  },
  {
   "cell_type": "code",
   "execution_count": null,
   "id": "9ebfb58d-45f9-4906-8a61-380c1c19c367",
   "metadata": {},
   "outputs": [],
   "source": [
    "import seaborn as sns\n",
    "import matplotlib.pyplot as plt\n",
    "from scipy.stats import sem"
   ]
  },
  {
   "cell_type": "code",
   "execution_count": null,
   "id": "1db46269-830b-471b-b41c-c71f6b53b804",
   "metadata": {},
   "outputs": [],
   "source": [
    "#### Matplotlib\n",
    "\n",
    "fmri = sns.load_dataset(\"fmri\") # returns panda dataframe\n",
    "\n",
    "fmri_mpl = fmri.sort_values('timepoint')\n",
    "\n",
    "fig, ax = plt.subplots()\n",
    "\n",
    "colors = {\"parietal\":\"C0\", \"frontal\":\"C1\"}\n",
    "line_styles = {\"stim\":\"solid\", \"cue\": \"dashed\"}\n",
    "\n",
    "for event in set(fmri_mpl[\"event\"]):\n",
    "    #filter for one element\n",
    "    fmri_mpl_ev = fmri_mpl[fmri_mpl[\"event\"]==event]\n",
    "    for region in set(fmri_mpl_ev[\"region\"]):\n",
    "        #filter for one region\n",
    "        fmri_mpl_re = fmri_mpl_ev[fmri_mpl_ev[\"region\"]==region]\n",
    "        df_mean = fmri_mpl_re.groupby('timepoint').signal.mean()\n",
    "        df_se = fmri_mpl_re.groupby('timepoint').signal.apply(sem).mul(1.96)\n",
    "\n",
    "        plt.plot(df_mean, \n",
    "                 color=colors[region], \n",
    "                 ls=line_styles[event])\n",
    "        plt.fill_between(df_mean.index, \n",
    "                         df_mean - df_se, \n",
    "                         df_mean + df_se, \n",
    "                         color=colors[region], \n",
    "                         alpha=0.2)\n",
    "#axes label\n",
    "ax.set_xlabel('timepoint')\n",
    "ax.set_ylabel('signal')\n",
    "\n",
    "#dummy lines\n",
    "dummy_lines = []\n",
    "for event in set(fmri_mpl[\"event\"]):\n",
    "    dummy_lines.append(ax.plot([],[], c='black', ls=line_styles[event])[0])\n",
    "lines = ax.get_lines()\n",
    "#legend regtions\n",
    "legend1 = plt.legend([dummy_lines[i] for i in [0,1]], [\"frontal\", \"parietal\"],                      \n",
    "                     title= \"region\",\n",
    "                     loc = \"upper right\")\n",
    "\n",
    "legend2 = plt.legend([dummy_lines[i] for i in [0,1]], [\"cue\", \"stim\"],                      \n",
    "                     title= \"event\",\n",
    "                     loc = \"center right\")\n",
    "\n",
    "ax.add_artist(legend1)\n",
    "ax.add_artist(legend2)\n",
    "plt.show()"
   ]
  },
  {
   "cell_type": "code",
   "execution_count": null,
   "id": "47d508c5-fb81-40e5-b73d-df462ccd535c",
   "metadata": {},
   "outputs": [],
   "source": [
    "#### Seaborn\n",
    "import seaborn as sns\n",
    "import matplotlib.pyplot as plt\n",
    "\n",
    "sns.set_theme(style = \"darkgrid\")\n",
    "fmri = sns.load_dataset(\"fmri\")\n",
    "sns.lineplot(x=\"timepoint\", y = \"signal\", hue=\"region\", style = \"event\", data = fmri)\n",
    "plt.show()\n"
   ]
  },
  {
   "cell_type": "markdown",
   "id": "0f52063c-3165-4b52-afc8-7bec86c097ec",
   "metadata": {},
   "source": [
    "Here you can find more examples of visualizations with Seaborn\n",
    "\n",
    "https://colab.research.google.com/github/jakevdp/PythonDataScienceHandbook/blob/master/notebooks/04.14-Visualization-With-Seaborn.ipynb"
   ]
  },
  {
   "cell_type": "markdown",
   "id": "27d62418-97bf-4d53-a095-5a80240fcba8",
   "metadata": {},
   "source": [
    "#### Plotly"
   ]
  },
  {
   "cell_type": "markdown",
   "id": "65451ceb-4809-49c7-8868-83c9952ee512",
   "metadata": {},
   "source": [
    "Installation of Plotly\n",
    "- pip: https://pypi.org/project/plotly/\n",
    "- conda: https://anaconda.org/plotly/plotly"
   ]
  },
  {
   "cell_type": "code",
   "execution_count": null,
   "id": "401fd02c-ebbc-491b-a72a-7a96ef75d750",
   "metadata": {
    "scrolled": true
   },
   "outputs": [],
   "source": [
    "import plotly.graph_objects as go\n",
    "import plotly.express as px\n",
    "import plotly.io as pio\n",
    "pio.renderers.default='notebook'\n",
    "\n",
    "df = px.data.election()\n",
    "geojson = px.data.election_geojson()\n",
    "\n",
    "fig = px.choropleth_mapbox(df, geojson=geojson, color=\"Bergeron\",\n",
    "                           locations=\"district\", featureidkey=\"properties.district\",\n",
    "                           center={\"lat\": 45.5517, \"lon\": -73.7073},\n",
    "                           mapbox_style=\"carto-positron\", zoom=9)\n",
    "fig.update_layout(margin={\"r\":0,\"t\":0,\"l\":0,\"b\":0})\n",
    "fig.show('notebook')"
   ]
  },
  {
   "cell_type": "markdown",
   "id": "ce033ade-e30c-462b-bfe3-d5f85574b06a",
   "metadata": {},
   "source": [
    "#### Bokeh"
   ]
  },
  {
   "cell_type": "code",
   "execution_count": null,
   "id": "e991a446-ac4c-4448-8ff9-f0b3e7b9383f",
   "metadata": {},
   "outputs": [],
   "source": [
    "import warnings\n",
    "warnings.filterwarnings('ignore')"
   ]
  },
  {
   "cell_type": "code",
   "execution_count": null,
   "id": "5d3c2f69",
   "metadata": {
    "scrolled": true
   },
   "outputs": [],
   "source": [
    "\"\"\"\n",
    "IMPORTANT: To execute this cell you need to install geopandas and pandas_bokeh before. \n",
    "There are some problems with the last version of Bokeh and with rendering in Jupyter Lab.\n",
    "\n",
    "The shapes of the regions corresponding to a postal code were taken from:\n",
    "https://github.com/inigoflores/ds-codigos-postales\n",
    "\"\"\"\n",
    "\n",
    "import geopandas as gpd\n",
    "import pandas as pd\n",
    "import pandas_bokeh\n",
    "import matplotlib.pyplot as plt\n",
    "pandas_bokeh.output_notebook()\n",
    "from bokeh.plotting import figure, output_file, save\n",
    "\n",
    "# load files with shapes for postal codes\n",
    "cp_barna  = gpd.read_file(data_dir + \"ds-codigos-postales-master/data/BARCELONA.geojson\" )\n",
    "cp_lleida = gpd.read_file(data_dir + \"ds-codigos-postales-master/data/LLEIDA.geojson\" )\n",
    "cp_tarragona = gpd.read_file(data_dir + \"ds-codigos-postales-master/data/TARRAGONA.geojson\" )\n",
    "cp_girona = gpd.read_file(data_dir + \"ds-codigos-postales-master/data/GIRONA.geojson\" )\n",
    "# join them in one gepandas dataframe\n",
    "cp = gpd.GeoDataFrame(pd.concat([cp_barna, cp_lleida, cp_tarragona, cp_girona], ignore_index=True), crs=cp_barna.crs)\n",
    "\n",
    "# get list of postal codes (cp)\n",
    "pc = list(results_df[\"municipi_codi\"])\n",
    "\n",
    "# how often does each cp appear in pc?\n",
    "occurrences = [pc.count(x) for x in pc]\n",
    "\n",
    "# put into handy format for bokeh hovertool (\"sample data\")\n",
    "df=pd.DataFrame({'COD_POSTAL': pc, 'A':occurrences})\n",
    "\n",
    "# Join postal code dataset with sample data\n",
    "new_df = gpd.GeoDataFrame(cp.merge(df, on=['COD_POSTAL']), crs=cp_barna.crs)\n",
    "\n",
    "p = new_df.plot_bokeh(simplify_shapes=0, category=\"A\", colormap=\"Spectral\", legend = \"participants postal codes\", hovertool_columns=[\"COD_POSTAL\"])\n",
    "#output_file(\"cps_participants.html\")\n",
    "\n",
    "# which postal codes did not correspond to any of the loades geopandas regions? \n",
    "#print(\"The maps with the following postal codes could not be loaded:\", set(pc)-set(new_df['COD_POSTAL']))\n"
   ]
  },
  {
   "cell_type": "code",
   "execution_count": null,
   "id": "e51e34ec-bd54-43f4-b8c4-69cfcf50c699",
   "metadata": {},
   "outputs": [],
   "source": []
  }
 ],
 "metadata": {
  "kernelspec": {
   "display_name": "ub",
   "language": "python",
   "name": "ub"
  },
  "language_info": {
   "codemirror_mode": {
    "name": "ipython",
    "version": 3
   },
   "file_extension": ".py",
   "mimetype": "text/x-python",
   "name": "python",
   "nbconvert_exporter": "python",
   "pygments_lexer": "ipython3",
   "version": "3.9.6"
  }
 },
 "nbformat": 4,
 "nbformat_minor": 5
}
